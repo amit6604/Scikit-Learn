{
  "nbformat": 4,
  "nbformat_minor": 0,
  "metadata": {
    "colab": {
      "name": "House price.ipynb",
      "provenance": [],
      "include_colab_link": true
    },
    "kernelspec": {
      "name": "python3",
      "display_name": "Python 3"
    },
    "accelerator": "GPU"
  },
  "cells": [
    {
      "cell_type": "markdown",
      "metadata": {
        "id": "view-in-github",
        "colab_type": "text"
      },
      "source": [
        "<a href=\"https://colab.research.google.com/github/amit6604/Scikit-Learn-Tutorials/blob/master/House_price.ipynb\" target=\"_parent\"><img src=\"https://colab.research.google.com/assets/colab-badge.svg\" alt=\"Open In Colab\"/></a>"
      ]
    },
    {
      "cell_type": "code",
      "metadata": {
        "id": "gb_AO921-Luf",
        "colab_type": "code",
        "colab": {}
      },
      "source": [
        "from google.colab import files"
      ],
      "execution_count": 0,
      "outputs": []
    },
    {
      "cell_type": "code",
      "metadata": {
        "id": "gTmBwj2Z-Y7B",
        "colab_type": "code",
        "colab": {
          "resources": {
            "http://localhost:8080/nbextensions/google.colab/files.js": {
              "data": "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",
              "ok": true,
              "headers": [
                [
                  "content-type",
                  "application/javascript"
                ]
              ],
              "status": 200,
              "status_text": ""
            }
          },
          "base_uri": "https://localhost:8080/",
          "height": 91
        },
        "outputId": "9dcabfd5-7a3a-46ac-8d9a-cfcc47a0e5d0"
      },
      "source": [
        "files.upload()\n"
      ],
      "execution_count": 22,
      "outputs": [
        {
          "output_type": "display_data",
          "data": {
            "text/html": [
              "\n",
              "     <input type=\"file\" id=\"files-3a39ab4d-47d8-4693-a591-c54ba68c6b7a\" name=\"files[]\" multiple disabled />\n",
              "     <output id=\"result-3a39ab4d-47d8-4693-a591-c54ba68c6b7a\">\n",
              "      Upload widget is only available when the cell has been executed in the\n",
              "      current browser session. Please rerun this cell to enable.\n",
              "      </output>\n",
              "      <script src=\"/nbextensions/google.colab/files.js\"></script> "
            ],
            "text/plain": [
              "<IPython.core.display.HTML object>"
            ]
          },
          "metadata": {
            "tags": []
          }
        },
        {
          "output_type": "stream",
          "text": [
            "Saving kaggle.json to kaggle.json\n"
          ],
          "name": "stdout"
        },
        {
          "output_type": "execute_result",
          "data": {
            "text/plain": [
              "{'kaggle.json': b'{\"username\":\"amitsh6604\",\"key\":\"57f0772884d4be5d30bfa6408711fcde\"}'}"
            ]
          },
          "metadata": {
            "tags": []
          },
          "execution_count": 22
        }
      ]
    },
    {
      "cell_type": "code",
      "metadata": {
        "id": "AaNmZ4hM-c3p",
        "colab_type": "code",
        "colab": {
          "base_uri": "https://localhost:8080/",
          "height": 34
        },
        "outputId": "7ce3cf55-154f-4ba0-b2e1-f1c6e1ff37b1"
      },
      "source": [
        "!mkdir ~/.kaggle"
      ],
      "execution_count": 23,
      "outputs": [
        {
          "output_type": "stream",
          "text": [
            "mkdir: cannot create directory ‘/root/.kaggle’: File exists\n"
          ],
          "name": "stdout"
        }
      ]
    },
    {
      "cell_type": "code",
      "metadata": {
        "id": "w5Ot1C9bAyan",
        "colab_type": "code",
        "colab": {}
      },
      "source": [
        "!cp kaggle.json ~/.kaggle/kaggle.json"
      ],
      "execution_count": 0,
      "outputs": []
    },
    {
      "cell_type": "code",
      "metadata": {
        "id": "K8IyaRxzBLzR",
        "colab_type": "code",
        "colab": {}
      },
      "source": [
        ""
      ],
      "execution_count": 0,
      "outputs": []
    },
    {
      "cell_type": "code",
      "metadata": {
        "id": "ByA_yF5bBFph",
        "colab_type": "code",
        "colab": {
          "base_uri": "https://localhost:8080/",
          "height": 408
        },
        "outputId": "f0478ee4-9a9f-4f31-de37-eada4bda6a14"
      },
      "source": [
        "!chmod 600 /root/.kaggle/kaggle.json\n",
        "!kaggle datasets list"
      ],
      "execution_count": 25,
      "outputs": [
        {
          "output_type": "stream",
          "text": [
            "Warning: Looks like you're using an outdated API Version, please consider updating (server 1.5.6 / client 1.5.4)\n",
            "ref                                                       title                                              size  lastUpdated          downloadCount  \n",
            "--------------------------------------------------------  ------------------------------------------------  -----  -------------------  -------------  \n",
            "therohk/ireland-historical-news                           The Irish Times - Waxy-Wany News                   47MB  2019-08-24 15:36:54           1504  \n",
            "dgomonov/new-york-city-airbnb-open-data                   New York City Airbnb Open Data                      2MB  2019-08-12 16:24:45          14373  \n",
            "lakshyaag/india-trade-data                                India - Trade Data                                  1MB  2019-08-16 16:13:58           7679  \n",
            "bradklassen/pga-tour-20102018-data                        PGA Tour Golf Data                                 94MB  2019-08-30 00:09:59           5815  \n",
            "r3w0p4/bournemouth-venues                                 Venues in Bournemouth                               3KB  2019-07-08 14:26:48           1282  \n",
            "AnalyzeBoston/crimes-in-boston                            Crimes in Boston                                   10MB  2018-09-04 17:56:03          19192  \n",
            "dareenalharthi/jamalon-arabic-books-dataset               Jamalon Arabic Books Dataset                        1MB  2019-08-15 18:58:06            356  \n",
            "samhiatt/xenocanto-avian-vocalizations-canv-usa           Avian Vocalizations from CA & NV, USA               1GB  2019-08-10 00:16:10            269  \n",
            "codersree/mount-rainier-weather-and-climbing-data         Mount Rainier Weather and Climbing Data            25KB  2019-08-27 23:33:36           1219  \n",
            "citizen-ds-ghana/health-facilities-gh                     Ghana Health Facilities                            84KB  2018-09-03 01:19:24           2007  \n",
            "doit-intl/autotel-shared-car-locations                    Shared Cars Locations                              78MB  2019-01-10 13:06:00           2386  \n",
            "jolasa/waves-measuring-buoys-data-mooloolaba              Waves Measuring Buoys Data                        599KB  2019-07-07 16:59:44           2437  \n",
            "ma7555/schengen-visa-stats                                Schengen Visa Stats 2017/2018                       1MB  2019-07-25 10:55:37           1119  \n",
            "lishuyangkaggle/cocktails-hotaling-co                     Cocktails (Hotaling & Co.)                         75KB  2019-07-08 23:49:34           1103  \n",
            "Madgrades/uw-madison-courses                              UW Madison Courses and Grades 2006-2017            90MB  2018-05-15 18:58:25           1918  \n",
            "inIT-OWL/vega-shrinkwrapper-runtofailure-data             Vega shrink-wrapper component degradation         408KB  2018-11-12 13:03:43            393  \n",
            "martj42/international-football-results-from-1872-to-2017  International football results from 1872 to 2019  518KB  2019-07-22 17:03:13          19677  \n",
            "citylines/city-lines                                      Transit systems of world                            3MB  2019-03-25 16:53:05           3267  \n",
            "datafiniti/pizza-restaurants-and-the-pizza-they-sell      Pizza Restaurants and the Pizza They Sell         850KB  2019-05-30 00:21:21           8943  \n",
            "university-of-edinburgh/peace-agreements-dataset          Peace Agreements Dataset                            1MB  2018-03-05 16:39:50           1133  \n"
          ],
          "name": "stdout"
        }
      ]
    },
    {
      "cell_type": "code",
      "metadata": {
        "id": "kyHHFGkTCrEy",
        "colab_type": "code",
        "colab": {
          "base_uri": "https://localhost:8080/",
          "height": 119
        },
        "outputId": "f2aa1683-25c1-409f-d112-1bdc767f58ee"
      },
      "source": [
        "!kaggle datasets list -s house-prices-advanced-regression-techniques"
      ],
      "execution_count": 28,
      "outputs": [
        {
          "output_type": "stream",
          "text": [
            "Warning: Looks like you're using an outdated API Version, please consider updating (server 1.5.6 / client 1.5.4)\n",
            "ref                                                   title                                               size  lastUpdated          downloadCount  \n",
            "----------------------------------------------------  -------------------------------------------------  -----  -------------------  -------------  \n",
            "ngee379k/house-prices-advanced-regression-techniques  House Prices: Advanced Regression Techniques        94KB  2018-02-12 20:44:07            375  \n",
            "bjaton/housepricesadvancedregressiontechniquestrain   house-prices-advanced-regression-techniques-train   94KB  2018-01-04 23:54:46            270  \n",
            "lespin/house-prices-dataset                           House Prices dataset                               199KB  2018-02-18 20:39:04           1028  \n"
          ],
          "name": "stdout"
        }
      ]
    },
    {
      "cell_type": "code",
      "metadata": {
        "id": "KoXtz0dNCwCA",
        "colab_type": "code",
        "colab": {
          "base_uri": "https://localhost:8080/",
          "height": 238
        },
        "outputId": "b0deaa93-3412-4406-9aae-367357e3ff68"
      },
      "source": [
        "!kaggle competitions download -c house-prices-advanced-regression-techniques"
      ],
      "execution_count": 30,
      "outputs": [
        {
          "output_type": "stream",
          "text": [
            "Warning: Looks like you're using an outdated API Version, please consider updating (server 1.5.6 / client 1.5.4)\n",
            "Downloading sample_submission.csv to /content\n",
            "  0% 0.00/31.2k [00:00<?, ?B/s]\n",
            "100% 31.2k/31.2k [00:00<00:00, 29.5MB/s]\n",
            "Downloading test.csv to /content\n",
            "  0% 0.00/441k [00:00<?, ?B/s]\n",
            "100% 441k/441k [00:00<00:00, 63.5MB/s]\n",
            "Downloading train.csv to /content\n",
            "  0% 0.00/450k [00:00<?, ?B/s]\n",
            "100% 450k/450k [00:00<00:00, 62.3MB/s]\n",
            "Downloading data_description.txt to /content\n",
            "  0% 0.00/13.1k [00:00<?, ?B/s]\n",
            "100% 13.1k/13.1k [00:00<00:00, 11.5MB/s]\n"
          ],
          "name": "stdout"
        }
      ]
    },
    {
      "cell_type": "code",
      "metadata": {
        "id": "i5SlnZtMDnJx",
        "colab_type": "code",
        "colab": {
          "base_uri": "https://localhost:8080/",
          "height": 408
        },
        "outputId": "c65b7784-2608-4e32-f30c-783f64f6374a"
      },
      "source": [
        "import numpy as np\n",
        "import pandas as pd\n",
        "\n",
        "import os \n",
        "\n",
        "for dirname, _, filenames in os.walk('/content'):\n",
        "  for filename in filenames:\n",
        "    print(os.path.join(dirname, filename))"
      ],
      "execution_count": 38,
      "outputs": [
        {
          "output_type": "stream",
          "text": [
            "/content/test.csv\n",
            "/content/kaggle (1).json\n",
            "/content/data_description.txt\n",
            "/content/kaggle.json\n",
            "/content/sample_submission.csv\n",
            "/content/train.csv\n",
            "/content/.config/.last_update_check.json\n",
            "/content/.config/active_config\n",
            "/content/.config/gce\n",
            "/content/.config/config_sentinel\n",
            "/content/.config/.metricsUUID\n",
            "/content/.config/configurations/config_default\n",
            "/content/.config/logs/2019.08.27/16.17.21.663235.log\n",
            "/content/.config/logs/2019.08.27/16.17.22.686467.log\n",
            "/content/.config/logs/2019.08.27/16.17.00.530950.log\n",
            "/content/.config/logs/2019.08.27/16.17.17.407104.log\n",
            "/content/.config/logs/2019.08.27/16.17.07.367707.log\n",
            "/content/sample_data/anscombe.json\n",
            "/content/sample_data/README.md\n",
            "/content/sample_data/mnist_train_small.csv\n",
            "/content/sample_data/california_housing_train.csv\n",
            "/content/sample_data/mnist_test.csv\n",
            "/content/sample_data/california_housing_test.csv\n"
          ],
          "name": "stdout"
        }
      ]
    },
    {
      "cell_type": "code",
      "metadata": {
        "id": "ZxC5k-ZJD1XR",
        "colab_type": "code",
        "colab": {}
      },
      "source": [
        "train = pd.read_csv('/content/train.csv')\n",
        "test = pd.read_csv('/content/test.csv')\n",
        "submission = pd.read_csv('/content/sample_submission.csv')"
      ],
      "execution_count": 0,
      "outputs": []
    },
    {
      "cell_type": "code",
      "metadata": {
        "id": "g7N698FhEgs5",
        "colab_type": "code",
        "colab": {
          "base_uri": "https://localhost:8080/",
          "height": 34
        },
        "outputId": "fd0e5c1e-7d5e-4f48-9e50-49a0a95bdbda"
      },
      "source": [
        "print(train.shape, test.shape, submission.shape)"
      ],
      "execution_count": 40,
      "outputs": [
        {
          "output_type": "stream",
          "text": [
            "(1460, 81) (1459, 80) (1459, 2)\n"
          ],
          "name": "stdout"
        }
      ]
    },
    {
      "cell_type": "code",
      "metadata": {
        "id": "PjbvijHTEnGJ",
        "colab_type": "code",
        "colab": {
          "base_uri": "https://localhost:8080/",
          "height": 98
        },
        "outputId": "e88b1725-3d98-424a-ba52-88d4f428f68d"
      },
      "source": [
        "import numpy as np\n",
        "import pandas as pd\n",
        "%matplotlib inline\n",
        "import matplotlib.pyplot as plt\n",
        "import seaborn as sns\n",
        "color = sns.color_palette()\n",
        "sns.set_style('darkgrid')\n",
        "import warnings\n",
        "def ignore_warn(*args, **kwargs):\n",
        "  pass\n",
        "\n",
        "warnings.warn = ignore_warn\n",
        "\n",
        "from scipy import stats\n",
        "from scipy.stats import norm, skew\n",
        "\n",
        "pd.set_option('display.float_format', lambda x: '{:.3f}'.format(x))\n",
        "\n",
        "train.head(0)"
      ],
      "execution_count": 44,
      "outputs": [
        {
          "output_type": "execute_result",
          "data": {
            "text/html": [
              "<div>\n",
              "<style scoped>\n",
              "    .dataframe tbody tr th:only-of-type {\n",
              "        vertical-align: middle;\n",
              "    }\n",
              "\n",
              "    .dataframe tbody tr th {\n",
              "        vertical-align: top;\n",
              "    }\n",
              "\n",
              "    .dataframe thead th {\n",
              "        text-align: right;\n",
              "    }\n",
              "</style>\n",
              "<table border=\"1\" class=\"dataframe\">\n",
              "  <thead>\n",
              "    <tr style=\"text-align: right;\">\n",
              "      <th></th>\n",
              "      <th>Id</th>\n",
              "      <th>MSSubClass</th>\n",
              "      <th>MSZoning</th>\n",
              "      <th>LotFrontage</th>\n",
              "      <th>LotArea</th>\n",
              "      <th>Street</th>\n",
              "      <th>Alley</th>\n",
              "      <th>LotShape</th>\n",
              "      <th>LandContour</th>\n",
              "      <th>Utilities</th>\n",
              "      <th>LotConfig</th>\n",
              "      <th>LandSlope</th>\n",
              "      <th>Neighborhood</th>\n",
              "      <th>Condition1</th>\n",
              "      <th>Condition2</th>\n",
              "      <th>BldgType</th>\n",
              "      <th>HouseStyle</th>\n",
              "      <th>OverallQual</th>\n",
              "      <th>OverallCond</th>\n",
              "      <th>YearBuilt</th>\n",
              "      <th>YearRemodAdd</th>\n",
              "      <th>RoofStyle</th>\n",
              "      <th>RoofMatl</th>\n",
              "      <th>Exterior1st</th>\n",
              "      <th>Exterior2nd</th>\n",
              "      <th>MasVnrType</th>\n",
              "      <th>MasVnrArea</th>\n",
              "      <th>ExterQual</th>\n",
              "      <th>ExterCond</th>\n",
              "      <th>Foundation</th>\n",
              "      <th>BsmtQual</th>\n",
              "      <th>BsmtCond</th>\n",
              "      <th>BsmtExposure</th>\n",
              "      <th>BsmtFinType1</th>\n",
              "      <th>BsmtFinSF1</th>\n",
              "      <th>BsmtFinType2</th>\n",
              "      <th>BsmtFinSF2</th>\n",
              "      <th>BsmtUnfSF</th>\n",
              "      <th>TotalBsmtSF</th>\n",
              "      <th>Heating</th>\n",
              "      <th>...</th>\n",
              "      <th>CentralAir</th>\n",
              "      <th>Electrical</th>\n",
              "      <th>1stFlrSF</th>\n",
              "      <th>2ndFlrSF</th>\n",
              "      <th>LowQualFinSF</th>\n",
              "      <th>GrLivArea</th>\n",
              "      <th>BsmtFullBath</th>\n",
              "      <th>BsmtHalfBath</th>\n",
              "      <th>FullBath</th>\n",
              "      <th>HalfBath</th>\n",
              "      <th>BedroomAbvGr</th>\n",
              "      <th>KitchenAbvGr</th>\n",
              "      <th>KitchenQual</th>\n",
              "      <th>TotRmsAbvGrd</th>\n",
              "      <th>Functional</th>\n",
              "      <th>Fireplaces</th>\n",
              "      <th>FireplaceQu</th>\n",
              "      <th>GarageType</th>\n",
              "      <th>GarageYrBlt</th>\n",
              "      <th>GarageFinish</th>\n",
              "      <th>GarageCars</th>\n",
              "      <th>GarageArea</th>\n",
              "      <th>GarageQual</th>\n",
              "      <th>GarageCond</th>\n",
              "      <th>PavedDrive</th>\n",
              "      <th>WoodDeckSF</th>\n",
              "      <th>OpenPorchSF</th>\n",
              "      <th>EnclosedPorch</th>\n",
              "      <th>3SsnPorch</th>\n",
              "      <th>ScreenPorch</th>\n",
              "      <th>PoolArea</th>\n",
              "      <th>PoolQC</th>\n",
              "      <th>Fence</th>\n",
              "      <th>MiscFeature</th>\n",
              "      <th>MiscVal</th>\n",
              "      <th>MoSold</th>\n",
              "      <th>YrSold</th>\n",
              "      <th>SaleType</th>\n",
              "      <th>SaleCondition</th>\n",
              "      <th>SalePrice</th>\n",
              "    </tr>\n",
              "  </thead>\n",
              "  <tbody>\n",
              "  </tbody>\n",
              "</table>\n",
              "<p>0 rows × 81 columns</p>\n",
              "</div>"
            ],
            "text/plain": [
              "Empty DataFrame\n",
              "Columns: [Id, MSSubClass, MSZoning, LotFrontage, LotArea, Street, Alley, LotShape, LandContour, Utilities, LotConfig, LandSlope, Neighborhood, Condition1, Condition2, BldgType, HouseStyle, OverallQual, OverallCond, YearBuilt, YearRemodAdd, RoofStyle, RoofMatl, Exterior1st, Exterior2nd, MasVnrType, MasVnrArea, ExterQual, ExterCond, Foundation, BsmtQual, BsmtCond, BsmtExposure, BsmtFinType1, BsmtFinSF1, BsmtFinType2, BsmtFinSF2, BsmtUnfSF, TotalBsmtSF, Heating, HeatingQC, CentralAir, Electrical, 1stFlrSF, 2ndFlrSF, LowQualFinSF, GrLivArea, BsmtFullBath, BsmtHalfBath, FullBath, HalfBath, BedroomAbvGr, KitchenAbvGr, KitchenQual, TotRmsAbvGrd, Functional, Fireplaces, FireplaceQu, GarageType, GarageYrBlt, GarageFinish, GarageCars, GarageArea, GarageQual, GarageCond, PavedDrive, WoodDeckSF, OpenPorchSF, EnclosedPorch, 3SsnPorch, ScreenPorch, PoolArea, PoolQC, Fence, MiscFeature, MiscVal, MoSold, YrSold, SaleType, SaleCondition, SalePrice]\n",
              "Index: []\n",
              "\n",
              "[0 rows x 81 columns]"
            ]
          },
          "metadata": {
            "tags": []
          },
          "execution_count": 44
        }
      ]
    },
    {
      "cell_type": "code",
      "metadata": {
        "id": "8tsRITGAGBWh",
        "colab_type": "code",
        "colab": {}
      },
      "source": [
        "train.drop('Id', axis = 1, inplace=True)\n",
        "test.drop('Id', axis = 1, inplace=True)\n"
      ],
      "execution_count": 0,
      "outputs": []
    },
    {
      "cell_type": "code",
      "metadata": {
        "id": "R95fs-yXQKCw",
        "colab_type": "code",
        "colab": {
          "base_uri": "https://localhost:8080/",
          "height": 286
        },
        "outputId": "fc47b872-677e-45c3-988f-cfcfd0ddc8b6"
      },
      "source": [
        "fig, ax = plt.subplots()\n",
        "ax.scatter(x = train.GrLivArea, y = train.SalePrice)\n",
        "plt.ylabel(\"Sale Price\", fontsize=12)\n",
        "plt.xlabel(\"Groung Living Area\", fontsize = 12)\n",
        "plt.show()"
      ],
      "execution_count": 46,
      "outputs": [
        {
          "output_type": "display_data",
          "data": {
            "image/png": "[encoded data removed]",
            "text/plain": [
              "<Figure size 432x288 with 1 Axes>"
            ]
          },
          "metadata": {
            "tags": []
          }
        }
      ]
    },
    {
      "cell_type": "code",
      "metadata": {
        "id": "hTZD4KWxRutA",
        "colab_type": "code",
        "colab": {}
      },
      "source": [
        "train.drop(train[(train.GrLivArea>4000) & (train.GrLivArea<300000)].index, inplace=True)"
      ],
      "execution_count": 0,
      "outputs": []
    },
    {
      "cell_type": "code",
      "metadata": {
        "id": "OJDKyAcQSq1Q",
        "colab_type": "code",
        "colab": {
          "base_uri": "https://localhost:8080/",
          "height": 34
        },
        "outputId": "8fda8cd7-86e2-41c4-801b-224948d3bff0"
      },
      "source": [
        "train.shape"
      ],
      "execution_count": 52,
      "outputs": [
        {
          "output_type": "execute_result",
          "data": {
            "text/plain": [
              "(1456, 80)"
            ]
          },
          "metadata": {
            "tags": []
          },
          "execution_count": 52
        }
      ]
    },
    {
      "cell_type": "code",
      "metadata": {
        "id": "1x11NangSsLA",
        "colab_type": "code",
        "colab": {
          "base_uri": "https://localhost:8080/",
          "height": 286
        },
        "outputId": "829e8972-8a14-4a74-c4e1-8e6e4402306f"
      },
      "source": [
        "fig, ax = plt.subplots()\n",
        "ax.scatter(x = train.GrLivArea, y = train.SalePrice)\n",
        "plt.ylabel(\"Sale Price\", fontsize=12)\n",
        "plt.xlabel(\"Groung Living Area\", fontsize = 12)\n",
        "plt.show()"
      ],
      "execution_count": 53,
      "outputs": [
        {
          "output_type": "display_data",
          "data": {
            "image/png": "[encoded data removed]",
            "text/plain": [
              "<Figure size 432x288 with 1 Axes>"
            ]
          },
          "metadata": {
            "tags": []
          }
        }
      ]
    },
    {
      "cell_type": "code",
      "metadata": {
        "id": "zvKgIf2AS1dQ",
        "colab_type": "code",
        "colab": {
          "base_uri": "https://localhost:8080/",
          "height": 624
        },
        "outputId": "a891464a-33d1-4422-a12d-974145387b94"
      },
      "source": [
        "sns.distplot(train.SalePrice, fit=norm)\n",
        "\n",
        "mu, sigma = norm.fit(train.SalePrice)\n",
        "print('\\n mu = $ {:.2f} and sigma = {:.2f}\\n'.format(mu, sigma))\n",
        "\n",
        "plt.legend(['Normal dist. ($\\mu =  $ {:.2f} and $sigma = $ {:.2f})'.format(mu, sigma)], loc = 'best')\n",
        "\n",
        "plt.ylabel(\"Frequency\")\n",
        "plt.title(\"SalesPrice Distribution\")\n",
        "\n",
        "fig = plt.figure()\n",
        "res = stats.probplot(train.SalePrice, plot = plt)\n",
        "plt.show()"
      ],
      "execution_count": 63,
      "outputs": [
        {
          "output_type": "stream",
          "text": [
            "\n",
            " mu = $ 180151.23 and sigma = 76670.25\n",
            "\n"
          ],
          "name": "stdout"
        },
        {
          "output_type": "display_data",
          "data": {
            "image/png": "[encoded data removed]",
            "text/plain": [
              "<Figure size 432x288 with 1 Axes>"
            ]
          },
          "metadata": {
            "tags": []
          }
        },
        {
          "output_type": "display_data",
          "data": {
            "image/png": "[encoded data removed]",
            "text/plain": [
              "<Figure size 432x288 with 1 Axes>"
            ]
          },
          "metadata": {
            "tags": []
          }
        }
      ]
    },
    {
      "cell_type": "code",
      "metadata": {
        "id": "ixVon8ZiUBhA",
        "colab_type": "code",
        "colab": {
          "base_uri": "https://localhost:8080/",
          "height": 624
        },
        "outputId": "2a2f906a-1564-4262-e775-438a37352c12"
      },
      "source": [
        "train.SalePrice = np.log1p(train['SalePrice'])\n",
        "sns.distplot(train.SalePrice, fit=norm)\n",
        "\n",
        "mu, sigma = norm.fit(train.SalePrice)\n",
        "print('\\n mu = $ {:.2f} and sigma = {:.2f}\\n'.format(mu, sigma))\n",
        "\n",
        "plt.legend(['Normal dist. ($\\mu =  $ {:.2f} and $sigma = $ {:.2f})'.format(mu, sigma)], loc = 'best')\n",
        "\n",
        "plt.ylabel(\"Frequency\")\n",
        "plt.title(\"SalesPrice Distribution\")\n",
        "\n",
        "fig = plt.figure()\n",
        "res = stats.probplot(train.SalePrice, plot = plt)\n",
        "plt.show()"
      ],
      "execution_count": 68,
      "outputs": [
        {
          "output_type": "stream",
          "text": [
            "\n",
            " mu = $ 2.57 and sigma = 0.03\n",
            "\n"
          ],
          "name": "stdout"
        },
        {
          "output_type": "display_data",
          "data": {
            "image/png": "[encoded data removed]",
            "text/plain": [
              "<Figure size 432x288 with 1 Axes>"
            ]
          },
          "metadata": {
            "tags": []
          }
        },
        {
          "output_type": "display_data",
          "data": {
            "image/png": "[encoded data removed]",
            "text/plain": [
              "<Figure size 432x288 with 1 Axes>"
            ]
          },
          "metadata": {
            "tags": []
          }
        }
      ]
    },
    {
      "cell_type": "code",
      "metadata": {
        "id": "OKcAuDTsWGGX",
        "colab_type": "code",
        "colab": {
          "base_uri": "https://localhost:8080/",
          "height": 34
        },
        "outputId": "48f5dd4b-f4a8-42d4-ea54-6741d6f8c402"
      },
      "source": [
        "Data = pd.concat((train, test)).reset_index(drop=True)\n",
        "Data.shape"
      ],
      "execution_count": 70,
      "outputs": [
        {
          "output_type": "execute_result",
          "data": {
            "text/plain": [
              "(2915, 80)"
            ]
          },
          "metadata": {
            "tags": []
          },
          "execution_count": 70
        }
      ]
    },
    {
      "cell_type": "code",
      "metadata": {
        "id": "vX6IXsbdWLSY",
        "colab_type": "code",
        "colab": {
          "base_uri": "https://localhost:8080/",
          "height": 629
        },
        "outputId": "6cd49ed4-77f0-4f16-e1ff-0ce25bbd2e6b"
      },
      "source": [
        "null_data = Data.isnull().sum() / len(Data) * 100\n",
        "null_data = null_data.drop(null_data[null_data==0].index)\n",
        "null_data"
      ],
      "execution_count": 73,
      "outputs": [
        {
          "output_type": "execute_result",
          "data": {
            "text/plain": [
              "Alley          93.208\n",
              "BsmtCond        2.813\n",
              "BsmtExposure    2.813\n",
              "BsmtFinSF1      0.034\n",
              "BsmtFinSF2      0.034\n",
              "BsmtFinType1    2.710\n",
              "BsmtFinType2    2.744\n",
              "BsmtFullBath    0.069\n",
              "BsmtHalfBath    0.069\n",
              "BsmtQual        2.779\n",
              "BsmtUnfSF       0.034\n",
              "Electrical      0.034\n",
              "Exterior1st     0.034\n",
              "Exterior2nd     0.034\n",
              "Fence          80.446\n",
              "FireplaceQu    48.714\n",
              "Functional      0.069\n",
              "GarageArea      0.034\n",
              "GarageCars      0.034\n",
              "GarageCond      5.455\n",
              "GarageFinish    5.455\n",
              "GarageQual      5.455\n",
              "GarageType      5.386\n",
              "GarageYrBlt     5.455\n",
              "KitchenQual     0.034\n",
              "LotFrontage    16.672\n",
              "MSZoning        0.137\n",
              "MasVnrArea      0.789\n",
              "MasVnrType      0.823\n",
              "MiscFeature    96.398\n",
              "PoolQC         99.726\n",
              "SalePrice      50.051\n",
              "SaleType        0.034\n",
              "TotalBsmtSF     0.034\n",
              "Utilities       0.069\n",
              "dtype: float64"
            ]
          },
          "metadata": {
            "tags": []
          },
          "execution_count": 73
        }
      ]
    },
    {
      "cell_type": "code",
      "metadata": {
        "id": "CxFcG03OXKTI",
        "colab_type": "code",
        "colab": {
          "base_uri": "https://localhost:8080/",
          "height": 170
        },
        "outputId": "f9107a2e-2724-4752-8fdd-ee6e67187971"
      },
      "source": [
        "null_data.index"
      ],
      "execution_count": 74,
      "outputs": [
        {
          "output_type": "execute_result",
          "data": {
            "text/plain": [
              "Index(['Alley', 'BsmtCond', 'BsmtExposure', 'BsmtFinSF1', 'BsmtFinSF2',\n",
              "       'BsmtFinType1', 'BsmtFinType2', 'BsmtFullBath', 'BsmtHalfBath',\n",
              "       'BsmtQual', 'BsmtUnfSF', 'Electrical', 'Exterior1st', 'Exterior2nd',\n",
              "       'Fence', 'FireplaceQu', 'Functional', 'GarageArea', 'GarageCars',\n",
              "       'GarageCond', 'GarageFinish', 'GarageQual', 'GarageType', 'GarageYrBlt',\n",
              "       'KitchenQual', 'LotFrontage', 'MSZoning', 'MasVnrArea', 'MasVnrType',\n",
              "       'MiscFeature', 'PoolQC', 'SalePrice', 'SaleType', 'TotalBsmtSF',\n",
              "       'Utilities'],\n",
              "      dtype='object')"
            ]
          },
          "metadata": {
            "tags": []
          },
          "execution_count": 74
        }
      ]
    },
    {
      "cell_type": "code",
      "metadata": {
        "id": "67wVgLVvii9S",
        "colab_type": "code",
        "colab": {
          "base_uri": "https://localhost:8080/",
          "height": 814
        },
        "outputId": "c3fd4233-6c0d-403d-ade3-739ab21fe03b"
      },
      "source": [
        "f , ax = plt.subplots(figsize=(15, 12))\n",
        "plt.xticks(rotation = 90)\n",
        "sns.barplot(x = null_data.index, y = null_data)\n",
        "plt.xlabel(\"Features\", fontsize = 14)\n",
        "plt.ylabel(\"Percent of missing values\", fontsize = 14)\n",
        "plt.title(\"Percent misssing data by features\", fontsize = 14)\n"
      ],
      "execution_count": 77,
      "outputs": [
        {
          "output_type": "execute_result",
          "data": {
            "text/plain": [
              "Text(0.5, 1.0, 'Percent misssing data by features')"
            ]
          },
          "metadata": {
            "tags": []
          },
          "execution_count": 77
        },
        {
          "output_type": "display_data",
          "data": {
            "image/png": "[encoded data removed]",
            "text/plain": [
              "<Figure size 1080x864 with 1 Axes>"
            ]
          },
          "metadata": {
            "tags": []
          }
        }
      ]
    },
    {
      "cell_type": "code",
      "metadata": {
        "id": "km8O7PL7jNTv",
        "colab_type": "code",
        "colab": {
          "base_uri": "https://localhost:8080/",
          "height": 625
        },
        "outputId": "c2d4d3da-9abb-414f-8d2f-a7dee488f41a"
      },
      "source": [
        "cormatrix = train.corr()\n",
        "plt.subplots(figsize = (12, 9))\n",
        "sns.heatmap(cormatrix, vmax = 0.9, square = True)"
      ],
      "execution_count": 78,
      "outputs": [
        {
          "output_type": "execute_result",
          "data": {
            "text/plain": [
              "<matplotlib.axes._subplots.AxesSubplot at 0x7fbc87682a58>"
            ]
          },
          "metadata": {
            "tags": []
          },
          "execution_count": 78
        },
        {
          "output_type": "display_data",
          "data": {
            "image/png": "[encoded data removed]",
            "text/plain": [
              "<Figure size 864x648 with 2 Axes>"
            ]
          },
          "metadata": {
            "tags": []
          }
        }
      ]
    },
    {
      "cell_type": "code",
      "metadata": {
        "id": "Th6yfCnKjuQY",
        "colab_type": "code",
        "colab": {
          "base_uri": "https://localhost:8080/",
          "height": 1000
        },
        "outputId": "a322b717-5859-469c-9bcd-350eb7e135a6"
      },
      "source": [
        "cormatrix"
      ],
      "execution_count": 80,
      "outputs": [
        {
          "output_type": "execute_result",
          "data": {
            "text/html": [
              "<div>\n",
              "<style scoped>\n",
              "    .dataframe tbody tr th:only-of-type {\n",
              "        vertical-align: middle;\n",
              "    }\n",
              "\n",
              "    .dataframe tbody tr th {\n",
              "        vertical-align: top;\n",
              "    }\n",
              "\n",
              "    .dataframe thead th {\n",
              "        text-align: right;\n",
              "    }\n",
              "</style>\n",
              "<table border=\"1\" class=\"dataframe\">\n",
              "  <thead>\n",
              "    <tr style=\"text-align: right;\">\n",
              "      <th></th>\n",
              "      <th>MSSubClass</th>\n",
              "      <th>LotFrontage</th>\n",
              "      <th>LotArea</th>\n",
              "      <th>OverallQual</th>\n",
              "      <th>OverallCond</th>\n",
              "      <th>YearBuilt</th>\n",
              "      <th>YearRemodAdd</th>\n",
              "      <th>MasVnrArea</th>\n",
              "      <th>BsmtFinSF1</th>\n",
              "      <th>BsmtFinSF2</th>\n",
              "      <th>BsmtUnfSF</th>\n",
              "      <th>TotalBsmtSF</th>\n",
              "      <th>1stFlrSF</th>\n",
              "      <th>2ndFlrSF</th>\n",
              "      <th>LowQualFinSF</th>\n",
              "      <th>GrLivArea</th>\n",
              "      <th>BsmtFullBath</th>\n",
              "      <th>BsmtHalfBath</th>\n",
              "      <th>FullBath</th>\n",
              "      <th>HalfBath</th>\n",
              "      <th>BedroomAbvGr</th>\n",
              "      <th>KitchenAbvGr</th>\n",
              "      <th>TotRmsAbvGrd</th>\n",
              "      <th>Fireplaces</th>\n",
              "      <th>GarageYrBlt</th>\n",
              "      <th>GarageCars</th>\n",
              "      <th>GarageArea</th>\n",
              "      <th>WoodDeckSF</th>\n",
              "      <th>OpenPorchSF</th>\n",
              "      <th>EnclosedPorch</th>\n",
              "      <th>3SsnPorch</th>\n",
              "      <th>ScreenPorch</th>\n",
              "      <th>PoolArea</th>\n",
              "      <th>MiscVal</th>\n",
              "      <th>MoSold</th>\n",
              "      <th>YrSold</th>\n",
              "      <th>SalePrice</th>\n",
              "    </tr>\n",
              "  </thead>\n",
              "  <tbody>\n",
              "    <tr>\n",
              "      <th>MSSubClass</th>\n",
              "      <td>1.000</td>\n",
              "      <td>-0.409</td>\n",
              "      <td>-0.142</td>\n",
              "      <td>0.032</td>\n",
              "      <td>-0.059</td>\n",
              "      <td>0.028</td>\n",
              "      <td>0.040</td>\n",
              "      <td>0.023</td>\n",
              "      <td>-0.075</td>\n",
              "      <td>-0.066</td>\n",
              "      <td>-0.141</td>\n",
              "      <td>-0.255</td>\n",
              "      <td>-0.265</td>\n",
              "      <td>0.311</td>\n",
              "      <td>0.046</td>\n",
              "      <td>0.078</td>\n",
              "      <td>0.003</td>\n",
              "      <td>-0.003</td>\n",
              "      <td>0.132</td>\n",
              "      <td>0.177</td>\n",
              "      <td>-0.024</td>\n",
              "      <td>0.282</td>\n",
              "      <td>0.040</td>\n",
              "      <td>-0.046</td>\n",
              "      <td>0.085</td>\n",
              "      <td>-0.040</td>\n",
              "      <td>-0.100</td>\n",
              "      <td>-0.013</td>\n",
              "      <td>-0.007</td>\n",
              "      <td>-0.012</td>\n",
              "      <td>-0.044</td>\n",
              "      <td>-0.026</td>\n",
              "      <td>0.008</td>\n",
              "      <td>-0.008</td>\n",
              "      <td>-0.014</td>\n",
              "      <td>-0.021</td>\n",
              "      <td>-0.073</td>\n",
              "    </tr>\n",
              "    <tr>\n",
              "      <th>LotFrontage</th>\n",
              "      <td>-0.409</td>\n",
              "      <td>1.000</td>\n",
              "      <td>0.388</td>\n",
              "      <td>0.226</td>\n",
              "      <td>-0.056</td>\n",
              "      <td>0.114</td>\n",
              "      <td>0.080</td>\n",
              "      <td>0.162</td>\n",
              "      <td>0.134</td>\n",
              "      <td>0.057</td>\n",
              "      <td>0.142</td>\n",
              "      <td>0.313</td>\n",
              "      <td>0.398</td>\n",
              "      <td>0.050</td>\n",
              "      <td>0.043</td>\n",
              "      <td>0.341</td>\n",
              "      <td>0.075</td>\n",
              "      <td>-0.009</td>\n",
              "      <td>0.187</td>\n",
              "      <td>0.037</td>\n",
              "      <td>0.270</td>\n",
              "      <td>-0.003</td>\n",
              "      <td>0.330</td>\n",
              "      <td>0.238</td>\n",
              "      <td>0.058</td>\n",
              "      <td>0.289</td>\n",
              "      <td>0.319</td>\n",
              "      <td>0.077</td>\n",
              "      <td>0.116</td>\n",
              "      <td>0.017</td>\n",
              "      <td>0.076</td>\n",
              "      <td>0.048</td>\n",
              "      <td>0.075</td>\n",
              "      <td>0.006</td>\n",
              "      <td>0.028</td>\n",
              "      <td>0.011</td>\n",
              "      <td>0.362</td>\n",
              "    </tr>\n",
              "    <tr>\n",
              "      <th>LotArea</th>\n",
              "      <td>-0.142</td>\n",
              "      <td>0.388</td>\n",
              "      <td>1.000</td>\n",
              "      <td>0.089</td>\n",
              "      <td>-0.003</td>\n",
              "      <td>0.007</td>\n",
              "      <td>0.007</td>\n",
              "      <td>0.081</td>\n",
              "      <td>0.173</td>\n",
              "      <td>0.115</td>\n",
              "      <td>-0.004</td>\n",
              "      <td>0.222</td>\n",
              "      <td>0.268</td>\n",
              "      <td>0.037</td>\n",
              "      <td>0.006</td>\n",
              "      <td>0.232</td>\n",
              "      <td>0.148</td>\n",
              "      <td>0.047</td>\n",
              "      <td>0.117</td>\n",
              "      <td>0.006</td>\n",
              "      <td>0.119</td>\n",
              "      <td>-0.017</td>\n",
              "      <td>0.174</td>\n",
              "      <td>0.260</td>\n",
              "      <td>-0.033</td>\n",
              "      <td>0.151</td>\n",
              "      <td>0.162</td>\n",
              "      <td>0.167</td>\n",
              "      <td>0.062</td>\n",
              "      <td>-0.016</td>\n",
              "      <td>0.022</td>\n",
              "      <td>0.046</td>\n",
              "      <td>0.034</td>\n",
              "      <td>0.039</td>\n",
              "      <td>0.007</td>\n",
              "      <td>-0.013</td>\n",
              "      <td>0.257</td>\n",
              "    </tr>\n",
              "    <tr>\n",
              "      <th>OverallQual</th>\n",
              "      <td>0.032</td>\n",
              "      <td>0.226</td>\n",
              "      <td>0.089</td>\n",
              "      <td>1.000</td>\n",
              "      <td>-0.091</td>\n",
              "      <td>0.572</td>\n",
              "      <td>0.551</td>\n",
              "      <td>0.400</td>\n",
              "      <td>0.213</td>\n",
              "      <td>-0.058</td>\n",
              "      <td>0.310</td>\n",
              "      <td>0.533</td>\n",
              "      <td>0.462</td>\n",
              "      <td>0.280</td>\n",
              "      <td>-0.030</td>\n",
              "      <td>0.584</td>\n",
              "      <td>0.104</td>\n",
              "      <td>-0.047</td>\n",
              "      <td>0.544</td>\n",
              "      <td>0.267</td>\n",
              "      <td>0.097</td>\n",
              "      <td>-0.184</td>\n",
              "      <td>0.416</td>\n",
              "      <td>0.387</td>\n",
              "      <td>0.547</td>\n",
              "      <td>0.599</td>\n",
              "      <td>0.555</td>\n",
              "      <td>0.233</td>\n",
              "      <td>0.298</td>\n",
              "      <td>-0.112</td>\n",
              "      <td>0.032</td>\n",
              "      <td>0.068</td>\n",
              "      <td>0.018</td>\n",
              "      <td>-0.031</td>\n",
              "      <td>0.076</td>\n",
              "      <td>-0.024</td>\n",
              "      <td>0.817</td>\n",
              "    </tr>\n",
              "    <tr>\n",
              "      <th>OverallCond</th>\n",
              "      <td>-0.059</td>\n",
              "      <td>-0.056</td>\n",
              "      <td>-0.003</td>\n",
              "      <td>-0.091</td>\n",
              "      <td>1.000</td>\n",
              "      <td>-0.376</td>\n",
              "      <td>0.075</td>\n",
              "      <td>-0.130</td>\n",
              "      <td>-0.043</td>\n",
              "      <td>0.040</td>\n",
              "      <td>-0.137</td>\n",
              "      <td>-0.176</td>\n",
              "      <td>-0.146</td>\n",
              "      <td>0.031</td>\n",
              "      <td>0.025</td>\n",
              "      <td>-0.079</td>\n",
              "      <td>-0.053</td>\n",
              "      <td>0.117</td>\n",
              "      <td>-0.194</td>\n",
              "      <td>-0.060</td>\n",
              "      <td>0.013</td>\n",
              "      <td>-0.087</td>\n",
              "      <td>-0.056</td>\n",
              "      <td>-0.022</td>\n",
              "      <td>-0.324</td>\n",
              "      <td>-0.185</td>\n",
              "      <td>-0.151</td>\n",
              "      <td>-0.003</td>\n",
              "      <td>-0.030</td>\n",
              "      <td>0.070</td>\n",
              "      <td>0.025</td>\n",
              "      <td>0.055</td>\n",
              "      <td>0.008</td>\n",
              "      <td>0.069</td>\n",
              "      <td>-0.003</td>\n",
              "      <td>0.044</td>\n",
              "      <td>-0.032</td>\n",
              "    </tr>\n",
              "    <tr>\n",
              "      <th>YearBuilt</th>\n",
              "      <td>0.028</td>\n",
              "      <td>0.114</td>\n",
              "      <td>0.007</td>\n",
              "      <td>0.572</td>\n",
              "      <td>-0.376</td>\n",
              "      <td>1.000</td>\n",
              "      <td>0.592</td>\n",
              "      <td>0.314</td>\n",
              "      <td>0.248</td>\n",
              "      <td>-0.048</td>\n",
              "      <td>0.149</td>\n",
              "      <td>0.400</td>\n",
              "      <td>0.280</td>\n",
              "      <td>0.003</td>\n",
              "      <td>-0.184</td>\n",
              "      <td>0.193</td>\n",
              "      <td>0.185</td>\n",
              "      <td>-0.040</td>\n",
              "      <td>0.467</td>\n",
              "      <td>0.240</td>\n",
              "      <td>-0.073</td>\n",
              "      <td>-0.174</td>\n",
              "      <td>0.089</td>\n",
              "      <td>0.143</td>\n",
              "      <td>0.825</td>\n",
              "      <td>0.537</td>\n",
              "      <td>0.477</td>\n",
              "      <td>0.223</td>\n",
              "      <td>0.184</td>\n",
              "      <td>-0.387</td>\n",
              "      <td>0.032</td>\n",
              "      <td>-0.050</td>\n",
              "      <td>-0.014</td>\n",
              "      <td>-0.034</td>\n",
              "      <td>0.014</td>\n",
              "      <td>-0.013</td>\n",
              "      <td>0.590</td>\n",
              "    </tr>\n",
              "    <tr>\n",
              "      <th>YearRemodAdd</th>\n",
              "      <td>0.040</td>\n",
              "      <td>0.080</td>\n",
              "      <td>0.007</td>\n",
              "      <td>0.551</td>\n",
              "      <td>0.075</td>\n",
              "      <td>0.592</td>\n",
              "      <td>1.000</td>\n",
              "      <td>0.176</td>\n",
              "      <td>0.122</td>\n",
              "      <td>-0.067</td>\n",
              "      <td>0.181</td>\n",
              "      <td>0.295</td>\n",
              "      <td>0.238</td>\n",
              "      <td>0.136</td>\n",
              "      <td>-0.062</td>\n",
              "      <td>0.289</td>\n",
              "      <td>0.117</td>\n",
              "      <td>-0.013</td>\n",
              "      <td>0.438</td>\n",
              "      <td>0.181</td>\n",
              "      <td>-0.042</td>\n",
              "      <td>-0.149</td>\n",
              "      <td>0.188</td>\n",
              "      <td>0.109</td>\n",
              "      <td>0.641</td>\n",
              "      <td>0.420</td>\n",
              "      <td>0.370</td>\n",
              "      <td>0.204</td>\n",
              "      <td>0.223</td>\n",
              "      <td>-0.193</td>\n",
              "      <td>0.046</td>\n",
              "      <td>-0.038</td>\n",
              "      <td>-0.009</td>\n",
              "      <td>-0.010</td>\n",
              "      <td>0.023</td>\n",
              "      <td>0.037</td>\n",
              "      <td>0.570</td>\n",
              "    </tr>\n",
              "    <tr>\n",
              "      <th>MasVnrArea</th>\n",
              "      <td>0.023</td>\n",
              "      <td>0.162</td>\n",
              "      <td>0.081</td>\n",
              "      <td>0.400</td>\n",
              "      <td>-0.130</td>\n",
              "      <td>0.314</td>\n",
              "      <td>0.176</td>\n",
              "      <td>1.000</td>\n",
              "      <td>0.236</td>\n",
              "      <td>-0.071</td>\n",
              "      <td>0.112</td>\n",
              "      <td>0.338</td>\n",
              "      <td>0.317</td>\n",
              "      <td>0.157</td>\n",
              "      <td>-0.070</td>\n",
              "      <td>0.363</td>\n",
              "      <td>0.080</td>\n",
              "      <td>0.012</td>\n",
              "      <td>0.266</td>\n",
              "      <td>0.195</td>\n",
              "      <td>0.099</td>\n",
              "      <td>-0.037</td>\n",
              "      <td>0.265</td>\n",
              "      <td>0.237</td>\n",
              "      <td>0.250</td>\n",
              "      <td>0.362</td>\n",
              "      <td>0.362</td>\n",
              "      <td>0.149</td>\n",
              "      <td>0.106</td>\n",
              "      <td>-0.109</td>\n",
              "      <td>0.020</td>\n",
              "      <td>0.065</td>\n",
              "      <td>-0.016</td>\n",
              "      <td>-0.030</td>\n",
              "      <td>0.004</td>\n",
              "      <td>-0.005</td>\n",
              "      <td>0.425</td>\n",
              "    </tr>\n",
              "    <tr>\n",
              "      <th>BsmtFinSF1</th>\n",
              "      <td>-0.075</td>\n",
              "      <td>0.134</td>\n",
              "      <td>0.173</td>\n",
              "      <td>0.213</td>\n",
              "      <td>-0.043</td>\n",
              "      <td>0.248</td>\n",
              "      <td>0.122</td>\n",
              "      <td>0.236</td>\n",
              "      <td>1.000</td>\n",
              "      <td>-0.049</td>\n",
              "      <td>-0.526</td>\n",
              "      <td>0.460</td>\n",
              "      <td>0.386</td>\n",
              "      <td>-0.183</td>\n",
              "      <td>-0.067</td>\n",
              "      <td>0.121</td>\n",
              "      <td>0.662</td>\n",
              "      <td>0.069</td>\n",
              "      <td>0.037</td>\n",
              "      <td>-0.015</td>\n",
              "      <td>-0.122</td>\n",
              "      <td>-0.083</td>\n",
              "      <td>0.002</td>\n",
              "      <td>0.236</td>\n",
              "      <td>0.147</td>\n",
              "      <td>0.224</td>\n",
              "      <td>0.269</td>\n",
              "      <td>0.201</td>\n",
              "      <td>0.072</td>\n",
              "      <td>-0.103</td>\n",
              "      <td>0.030</td>\n",
              "      <td>0.070</td>\n",
              "      <td>0.016</td>\n",
              "      <td>0.005</td>\n",
              "      <td>-0.002</td>\n",
              "      <td>0.019</td>\n",
              "      <td>0.380</td>\n",
              "    </tr>\n",
              "    <tr>\n",
              "      <th>BsmtFinSF2</th>\n",
              "      <td>-0.066</td>\n",
              "      <td>0.057</td>\n",
              "      <td>0.115</td>\n",
              "      <td>-0.058</td>\n",
              "      <td>0.040</td>\n",
              "      <td>-0.048</td>\n",
              "      <td>-0.067</td>\n",
              "      <td>-0.071</td>\n",
              "      <td>-0.049</td>\n",
              "      <td>1.000</td>\n",
              "      <td>-0.209</td>\n",
              "      <td>0.116</td>\n",
              "      <td>0.106</td>\n",
              "      <td>-0.098</td>\n",
              "      <td>0.015</td>\n",
              "      <td>-0.005</td>\n",
              "      <td>0.160</td>\n",
              "      <td>0.072</td>\n",
              "      <td>-0.075</td>\n",
              "      <td>-0.031</td>\n",
              "      <td>-0.015</td>\n",
              "      <td>-0.041</td>\n",
              "      <td>-0.033</td>\n",
              "      <td>0.049</td>\n",
              "      <td>-0.087</td>\n",
              "      <td>-0.037</td>\n",
              "      <td>-0.016</td>\n",
              "      <td>0.069</td>\n",
              "      <td>0.005</td>\n",
              "      <td>0.036</td>\n",
              "      <td>-0.030</td>\n",
              "      <td>0.089</td>\n",
              "      <td>0.053</td>\n",
              "      <td>0.005</td>\n",
              "      <td>-0.016</td>\n",
              "      <td>0.031</td>\n",
              "      <td>0.008</td>\n",
              "    </tr>\n",
              "    <tr>\n",
              "      <th>BsmtUnfSF</th>\n",
              "      <td>-0.141</td>\n",
              "      <td>0.142</td>\n",
              "      <td>-0.004</td>\n",
              "      <td>0.310</td>\n",
              "      <td>-0.137</td>\n",
              "      <td>0.149</td>\n",
              "      <td>0.181</td>\n",
              "      <td>0.112</td>\n",
              "      <td>-0.526</td>\n",
              "      <td>-0.209</td>\n",
              "      <td>1.000</td>\n",
              "      <td>0.442</td>\n",
              "      <td>0.332</td>\n",
              "      <td>0.003</td>\n",
              "      <td>0.028</td>\n",
              "      <td>0.252</td>\n",
              "      <td>-0.424</td>\n",
              "      <td>-0.099</td>\n",
              "      <td>0.289</td>\n",
              "      <td>-0.042</td>\n",
              "      <td>0.167</td>\n",
              "      <td>0.030</td>\n",
              "      <td>0.252</td>\n",
              "      <td>0.052</td>\n",
              "      <td>0.191</td>\n",
              "      <td>0.214</td>\n",
              "      <td>0.185</td>\n",
              "      <td>-0.007</td>\n",
              "      <td>0.129</td>\n",
              "      <td>-0.002</td>\n",
              "      <td>0.021</td>\n",
              "      <td>-0.012</td>\n",
              "      <td>-0.031</td>\n",
              "      <td>-0.024</td>\n",
              "      <td>0.035</td>\n",
              "      <td>-0.041</td>\n",
              "      <td>0.222</td>\n",
              "    </tr>\n",
              "    <tr>\n",
              "      <th>TotalBsmtSF</th>\n",
              "      <td>-0.255</td>\n",
              "      <td>0.313</td>\n",
              "      <td>0.222</td>\n",
              "      <td>0.533</td>\n",
              "      <td>-0.176</td>\n",
              "      <td>0.400</td>\n",
              "      <td>0.295</td>\n",
              "      <td>0.338</td>\n",
              "      <td>0.460</td>\n",
              "      <td>0.116</td>\n",
              "      <td>0.442</td>\n",
              "      <td>1.000</td>\n",
              "      <td>0.801</td>\n",
              "      <td>-0.227</td>\n",
              "      <td>-0.033</td>\n",
              "      <td>0.395</td>\n",
              "      <td>0.299</td>\n",
              "      <td>-0.006</td>\n",
              "      <td>0.320</td>\n",
              "      <td>-0.072</td>\n",
              "      <td>0.046</td>\n",
              "      <td>-0.070</td>\n",
              "      <td>0.259</td>\n",
              "      <td>0.321</td>\n",
              "      <td>0.327</td>\n",
              "      <td>0.449</td>\n",
              "      <td>0.472</td>\n",
              "      <td>0.230</td>\n",
              "      <td>0.216</td>\n",
              "      <td>-0.096</td>\n",
              "      <td>0.042</td>\n",
              "      <td>0.095</td>\n",
              "      <td>0.004</td>\n",
              "      <td>-0.018</td>\n",
              "      <td>0.030</td>\n",
              "      <td>-0.012</td>\n",
              "      <td>0.638</td>\n",
              "    </tr>\n",
              "    <tr>\n",
              "      <th>1stFlrSF</th>\n",
              "      <td>-0.265</td>\n",
              "      <td>0.398</td>\n",
              "      <td>0.268</td>\n",
              "      <td>0.462</td>\n",
              "      <td>-0.146</td>\n",
              "      <td>0.280</td>\n",
              "      <td>0.238</td>\n",
              "      <td>0.317</td>\n",
              "      <td>0.386</td>\n",
              "      <td>0.106</td>\n",
              "      <td>0.332</td>\n",
              "      <td>0.801</td>\n",
              "      <td>1.000</td>\n",
              "      <td>-0.252</td>\n",
              "      <td>-0.013</td>\n",
              "      <td>0.523</td>\n",
              "      <td>0.233</td>\n",
              "      <td>-0.004</td>\n",
              "      <td>0.375</td>\n",
              "      <td>-0.144</td>\n",
              "      <td>0.125</td>\n",
              "      <td>0.075</td>\n",
              "      <td>0.391</td>\n",
              "      <td>0.397</td>\n",
              "      <td>0.229</td>\n",
              "      <td>0.446</td>\n",
              "      <td>0.474</td>\n",
              "      <td>0.231</td>\n",
              "      <td>0.179</td>\n",
              "      <td>-0.063</td>\n",
              "      <td>0.061</td>\n",
              "      <td>0.097</td>\n",
              "      <td>0.032</td>\n",
              "      <td>-0.021</td>\n",
              "      <td>0.045</td>\n",
              "      <td>-0.010</td>\n",
              "      <td>0.610</td>\n",
              "    </tr>\n",
              "    <tr>\n",
              "      <th>2ndFlrSF</th>\n",
              "      <td>0.311</td>\n",
              "      <td>0.050</td>\n",
              "      <td>0.037</td>\n",
              "      <td>0.280</td>\n",
              "      <td>0.031</td>\n",
              "      <td>0.003</td>\n",
              "      <td>0.136</td>\n",
              "      <td>0.157</td>\n",
              "      <td>-0.183</td>\n",
              "      <td>-0.098</td>\n",
              "      <td>0.003</td>\n",
              "      <td>-0.227</td>\n",
              "      <td>-0.252</td>\n",
              "      <td>1.000</td>\n",
              "      <td>0.065</td>\n",
              "      <td>0.687</td>\n",
              "      <td>-0.179</td>\n",
              "      <td>-0.033</td>\n",
              "      <td>0.411</td>\n",
              "      <td>0.609</td>\n",
              "      <td>0.502</td>\n",
              "      <td>0.062</td>\n",
              "      <td>0.611</td>\n",
              "      <td>0.183</td>\n",
              "      <td>0.065</td>\n",
              "      <td>0.175</td>\n",
              "      <td>0.125</td>\n",
              "      <td>0.084</td>\n",
              "      <td>0.198</td>\n",
              "      <td>0.066</td>\n",
              "      <td>-0.024</td>\n",
              "      <td>0.043</td>\n",
              "      <td>0.038</td>\n",
              "      <td>0.017</td>\n",
              "      <td>0.039</td>\n",
              "      <td>-0.025</td>\n",
              "      <td>0.306</td>\n",
              "    </tr>\n",
              "    <tr>\n",
              "      <th>LowQualFinSF</th>\n",
              "      <td>0.046</td>\n",
              "      <td>0.043</td>\n",
              "      <td>0.006</td>\n",
              "      <td>-0.030</td>\n",
              "      <td>0.025</td>\n",
              "      <td>-0.184</td>\n",
              "      <td>-0.062</td>\n",
              "      <td>-0.070</td>\n",
              "      <td>-0.067</td>\n",
              "      <td>0.015</td>\n",
              "      <td>0.028</td>\n",
              "      <td>-0.033</td>\n",
              "      <td>-0.013</td>\n",
              "      <td>0.065</td>\n",
              "      <td>1.000</td>\n",
              "      <td>0.145</td>\n",
              "      <td>-0.047</td>\n",
              "      <td>-0.006</td>\n",
              "      <td>0.000</td>\n",
              "      <td>-0.027</td>\n",
              "      <td>0.106</td>\n",
              "      <td>0.007</td>\n",
              "      <td>0.133</td>\n",
              "      <td>-0.021</td>\n",
              "      <td>-0.036</td>\n",
              "      <td>-0.094</td>\n",
              "      <td>-0.067</td>\n",
              "      <td>-0.025</td>\n",
              "      <td>0.019</td>\n",
              "      <td>0.061</td>\n",
              "      <td>-0.004</td>\n",
              "      <td>0.027</td>\n",
              "      <td>0.073</td>\n",
              "      <td>-0.004</td>\n",
              "      <td>-0.022</td>\n",
              "      <td>-0.029</td>\n",
              "      <td>-0.038</td>\n",
              "    </tr>\n",
              "    <tr>\n",
              "      <th>GrLivArea</th>\n",
              "      <td>0.078</td>\n",
              "      <td>0.341</td>\n",
              "      <td>0.232</td>\n",
              "      <td>0.584</td>\n",
              "      <td>-0.079</td>\n",
              "      <td>0.193</td>\n",
              "      <td>0.289</td>\n",
              "      <td>0.363</td>\n",
              "      <td>0.121</td>\n",
              "      <td>-0.005</td>\n",
              "      <td>0.252</td>\n",
              "      <td>0.395</td>\n",
              "      <td>0.523</td>\n",
              "      <td>0.687</td>\n",
              "      <td>0.145</td>\n",
              "      <td>1.000</td>\n",
              "      <td>0.013</td>\n",
              "      <td>-0.032</td>\n",
              "      <td>0.635</td>\n",
              "      <td>0.419</td>\n",
              "      <td>0.540</td>\n",
              "      <td>0.110</td>\n",
              "      <td>0.834</td>\n",
              "      <td>0.452</td>\n",
              "      <td>0.228</td>\n",
              "      <td>0.474</td>\n",
              "      <td>0.455</td>\n",
              "      <td>0.242</td>\n",
              "      <td>0.307</td>\n",
              "      <td>0.016</td>\n",
              "      <td>0.024</td>\n",
              "      <td>0.112</td>\n",
              "      <td>0.064</td>\n",
              "      <td>-0.001</td>\n",
              "      <td>0.065</td>\n",
              "      <td>-0.032</td>\n",
              "      <td>0.715</td>\n",
              "    </tr>\n",
              "    <tr>\n",
              "      <th>BsmtFullBath</th>\n",
              "      <td>0.003</td>\n",
              "      <td>0.075</td>\n",
              "      <td>0.148</td>\n",
              "      <td>0.104</td>\n",
              "      <td>-0.053</td>\n",
              "      <td>0.185</td>\n",
              "      <td>0.117</td>\n",
              "      <td>0.080</td>\n",
              "      <td>0.662</td>\n",
              "      <td>0.160</td>\n",
              "      <td>-0.424</td>\n",
              "      <td>0.299</td>\n",
              "      <td>0.233</td>\n",
              "      <td>-0.179</td>\n",
              "      <td>-0.047</td>\n",
              "      <td>0.013</td>\n",
              "      <td>1.000</td>\n",
              "      <td>-0.146</td>\n",
              "      <td>-0.069</td>\n",
              "      <td>-0.035</td>\n",
              "      <td>-0.152</td>\n",
              "      <td>-0.041</td>\n",
              "      <td>-0.064</td>\n",
              "      <td>0.131</td>\n",
              "      <td>0.121</td>\n",
              "      <td>0.131</td>\n",
              "      <td>0.171</td>\n",
              "      <td>0.175</td>\n",
              "      <td>0.056</td>\n",
              "      <td>-0.049</td>\n",
              "      <td>0.000</td>\n",
              "      <td>0.024</td>\n",
              "      <td>0.037</td>\n",
              "      <td>-0.023</td>\n",
              "      <td>-0.024</td>\n",
              "      <td>0.068</td>\n",
              "      <td>0.238</td>\n",
              "    </tr>\n",
              "    <tr>\n",
              "      <th>BsmtHalfBath</th>\n",
              "      <td>-0.003</td>\n",
              "      <td>-0.009</td>\n",
              "      <td>0.047</td>\n",
              "      <td>-0.047</td>\n",
              "      <td>0.117</td>\n",
              "      <td>-0.040</td>\n",
              "      <td>-0.013</td>\n",
              "      <td>0.012</td>\n",
              "      <td>0.069</td>\n",
              "      <td>0.072</td>\n",
              "      <td>-0.099</td>\n",
              "      <td>-0.006</td>\n",
              "      <td>-0.004</td>\n",
              "      <td>-0.033</td>\n",
              "      <td>-0.006</td>\n",
              "      <td>-0.032</td>\n",
              "      <td>-0.146</td>\n",
              "      <td>1.000</td>\n",
              "      <td>-0.061</td>\n",
              "      <td>-0.015</td>\n",
              "      <td>0.043</td>\n",
              "      <td>-0.038</td>\n",
              "      <td>-0.029</td>\n",
              "      <td>0.025</td>\n",
              "      <td>-0.079</td>\n",
              "      <td>-0.025</td>\n",
              "      <td>-0.028</td>\n",
              "      <td>0.035</td>\n",
              "      <td>-0.024</td>\n",
              "      <td>-0.008</td>\n",
              "      <td>0.036</td>\n",
              "      <td>0.033</td>\n",
              "      <td>0.028</td>\n",
              "      <td>-0.007</td>\n",
              "      <td>0.038</td>\n",
              "      <td>-0.045</td>\n",
              "      <td>-0.013</td>\n",
              "    </tr>\n",
              "    <tr>\n",
              "      <th>FullBath</th>\n",
              "      <td>0.132</td>\n",
              "      <td>0.187</td>\n",
              "      <td>0.117</td>\n",
              "      <td>0.544</td>\n",
              "      <td>-0.194</td>\n",
              "      <td>0.467</td>\n",
              "      <td>0.438</td>\n",
              "      <td>0.266</td>\n",
              "      <td>0.037</td>\n",
              "      <td>-0.075</td>\n",
              "      <td>0.289</td>\n",
              "      <td>0.320</td>\n",
              "      <td>0.375</td>\n",
              "      <td>0.411</td>\n",
              "      <td>0.000</td>\n",
              "      <td>0.635</td>\n",
              "      <td>-0.069</td>\n",
              "      <td>-0.061</td>\n",
              "      <td>1.000</td>\n",
              "      <td>0.130</td>\n",
              "      <td>0.361</td>\n",
              "      <td>0.135</td>\n",
              "      <td>0.550</td>\n",
              "      <td>0.236</td>\n",
              "      <td>0.483</td>\n",
              "      <td>0.465</td>\n",
              "      <td>0.401</td>\n",
              "      <td>0.182</td>\n",
              "      <td>0.253</td>\n",
              "      <td>-0.114</td>\n",
              "      <td>0.036</td>\n",
              "      <td>-0.007</td>\n",
              "      <td>0.022</td>\n",
              "      <td>-0.014</td>\n",
              "      <td>0.058</td>\n",
              "      <td>-0.017</td>\n",
              "      <td>0.590</td>\n",
              "    </tr>\n",
              "    <tr>\n",
              "      <th>HalfBath</th>\n",
              "      <td>0.177</td>\n",
              "      <td>0.037</td>\n",
              "      <td>0.006</td>\n",
              "      <td>0.267</td>\n",
              "      <td>-0.060</td>\n",
              "      <td>0.240</td>\n",
              "      <td>0.181</td>\n",
              "      <td>0.195</td>\n",
              "      <td>-0.015</td>\n",
              "      <td>-0.031</td>\n",
              "      <td>-0.042</td>\n",
              "      <td>-0.072</td>\n",
              "      <td>-0.144</td>\n",
              "      <td>0.609</td>\n",
              "      <td>-0.027</td>\n",
              "      <td>0.419</td>\n",
              "      <td>-0.035</td>\n",
              "      <td>-0.015</td>\n",
              "      <td>0.130</td>\n",
              "      <td>1.000</td>\n",
              "      <td>0.225</td>\n",
              "      <td>-0.068</td>\n",
              "      <td>0.339</td>\n",
              "      <td>0.198</td>\n",
              "      <td>0.194</td>\n",
              "      <td>0.216</td>\n",
              "      <td>0.157</td>\n",
              "      <td>0.105</td>\n",
              "      <td>0.195</td>\n",
              "      <td>-0.094</td>\n",
              "      <td>-0.005</td>\n",
              "      <td>0.073</td>\n",
              "      <td>0.001</td>\n",
              "      <td>0.002</td>\n",
              "      <td>-0.007</td>\n",
              "      <td>-0.009</td>\n",
              "      <td>0.312</td>\n",
              "    </tr>\n",
              "    <tr>\n",
              "      <th>BedroomAbvGr</th>\n",
              "      <td>-0.024</td>\n",
              "      <td>0.270</td>\n",
              "      <td>0.119</td>\n",
              "      <td>0.097</td>\n",
              "      <td>0.013</td>\n",
              "      <td>-0.073</td>\n",
              "      <td>-0.042</td>\n",
              "      <td>0.099</td>\n",
              "      <td>-0.122</td>\n",
              "      <td>-0.015</td>\n",
              "      <td>0.167</td>\n",
              "      <td>0.046</td>\n",
              "      <td>0.125</td>\n",
              "      <td>0.502</td>\n",
              "      <td>0.106</td>\n",
              "      <td>0.540</td>\n",
              "      <td>-0.152</td>\n",
              "      <td>0.043</td>\n",
              "      <td>0.361</td>\n",
              "      <td>0.225</td>\n",
              "      <td>1.000</td>\n",
              "      <td>0.199</td>\n",
              "      <td>0.679</td>\n",
              "      <td>0.104</td>\n",
              "      <td>-0.066</td>\n",
              "      <td>0.083</td>\n",
              "      <td>0.062</td>\n",
              "      <td>0.044</td>\n",
              "      <td>0.094</td>\n",
              "      <td>0.042</td>\n",
              "      <td>-0.024</td>\n",
              "      <td>0.045</td>\n",
              "      <td>0.064</td>\n",
              "      <td>0.008</td>\n",
              "      <td>0.048</td>\n",
              "      <td>-0.035</td>\n",
              "      <td>0.207</td>\n",
              "    </tr>\n",
              "    <tr>\n",
              "      <th>KitchenAbvGr</th>\n",
              "      <td>0.282</td>\n",
              "      <td>-0.003</td>\n",
              "      <td>-0.017</td>\n",
              "      <td>-0.184</td>\n",
              "      <td>-0.087</td>\n",
              "      <td>-0.174</td>\n",
              "      <td>-0.149</td>\n",
              "      <td>-0.037</td>\n",
              "      <td>-0.083</td>\n",
              "      <td>-0.041</td>\n",
              "      <td>0.030</td>\n",
              "      <td>-0.070</td>\n",
              "      <td>0.075</td>\n",
              "      <td>0.062</td>\n",
              "      <td>0.007</td>\n",
              "      <td>0.110</td>\n",
              "      <td>-0.041</td>\n",
              "      <td>-0.038</td>\n",
              "      <td>0.135</td>\n",
              "      <td>-0.068</td>\n",
              "      <td>0.199</td>\n",
              "      <td>1.000</td>\n",
              "      <td>0.260</td>\n",
              "      <td>-0.124</td>\n",
              "      <td>-0.124</td>\n",
              "      <td>-0.050</td>\n",
              "      <td>-0.064</td>\n",
              "      <td>-0.090</td>\n",
              "      <td>-0.070</td>\n",
              "      <td>0.037</td>\n",
              "      <td>-0.025</td>\n",
              "      <td>-0.052</td>\n",
              "      <td>-0.012</td>\n",
              "      <td>0.062</td>\n",
              "      <td>0.026</td>\n",
              "      <td>0.031</td>\n",
              "      <td>-0.147</td>\n",
              "    </tr>\n",
              "    <tr>\n",
              "      <th>TotRmsAbvGrd</th>\n",
              "      <td>0.040</td>\n",
              "      <td>0.330</td>\n",
              "      <td>0.174</td>\n",
              "      <td>0.416</td>\n",
              "      <td>-0.056</td>\n",
              "      <td>0.089</td>\n",
              "      <td>0.188</td>\n",
              "      <td>0.265</td>\n",
              "      <td>0.002</td>\n",
              "      <td>-0.033</td>\n",
              "      <td>0.252</td>\n",
              "      <td>0.259</td>\n",
              "      <td>0.391</td>\n",
              "      <td>0.611</td>\n",
              "      <td>0.133</td>\n",
              "      <td>0.834</td>\n",
              "      <td>-0.064</td>\n",
              "      <td>-0.029</td>\n",
              "      <td>0.550</td>\n",
              "      <td>0.339</td>\n",
              "      <td>0.679</td>\n",
              "      <td>0.260</td>\n",
              "      <td>1.000</td>\n",
              "      <td>0.316</td>\n",
              "      <td>0.142</td>\n",
              "      <td>0.358</td>\n",
              "      <td>0.325</td>\n",
              "      <td>0.160</td>\n",
              "      <td>0.220</td>\n",
              "      <td>0.007</td>\n",
              "      <td>-0.006</td>\n",
              "      <td>0.062</td>\n",
              "      <td>0.042</td>\n",
              "      <td>0.026</td>\n",
              "      <td>0.042</td>\n",
              "      <td>-0.032</td>\n",
              "      <td>0.531</td>\n",
              "    </tr>\n",
              "    <tr>\n",
              "      <th>Fireplaces</th>\n",
              "      <td>-0.046</td>\n",
              "      <td>0.238</td>\n",
              "      <td>0.260</td>\n",
              "      <td>0.387</td>\n",
              "      <td>-0.022</td>\n",
              "      <td>0.143</td>\n",
              "      <td>0.109</td>\n",
              "      <td>0.237</td>\n",
              "      <td>0.236</td>\n",
              "      <td>0.049</td>\n",
              "      <td>0.052</td>\n",
              "      <td>0.321</td>\n",
              "      <td>0.397</td>\n",
              "      <td>0.183</td>\n",
              "      <td>-0.021</td>\n",
              "      <td>0.452</td>\n",
              "      <td>0.131</td>\n",
              "      <td>0.025</td>\n",
              "      <td>0.236</td>\n",
              "      <td>0.198</td>\n",
              "      <td>0.104</td>\n",
              "      <td>-0.124</td>\n",
              "      <td>0.316</td>\n",
              "      <td>1.000</td>\n",
              "      <td>0.042</td>\n",
              "      <td>0.298</td>\n",
              "      <td>0.257</td>\n",
              "      <td>0.195</td>\n",
              "      <td>0.161</td>\n",
              "      <td>-0.023</td>\n",
              "      <td>0.012</td>\n",
              "      <td>0.188</td>\n",
              "      <td>0.051</td>\n",
              "      <td>0.002</td>\n",
              "      <td>0.054</td>\n",
              "      <td>-0.023</td>\n",
              "      <td>0.486</td>\n",
              "    </tr>\n",
              "    <tr>\n",
              "      <th>GarageYrBlt</th>\n",
              "      <td>0.085</td>\n",
              "      <td>0.058</td>\n",
              "      <td>-0.033</td>\n",
              "      <td>0.547</td>\n",
              "      <td>-0.324</td>\n",
              "      <td>0.825</td>\n",
              "      <td>0.641</td>\n",
              "      <td>0.250</td>\n",
              "      <td>0.147</td>\n",
              "      <td>-0.087</td>\n",
              "      <td>0.191</td>\n",
              "      <td>0.327</td>\n",
              "      <td>0.229</td>\n",
              "      <td>0.065</td>\n",
              "      <td>-0.036</td>\n",
              "      <td>0.228</td>\n",
              "      <td>0.121</td>\n",
              "      <td>-0.079</td>\n",
              "      <td>0.483</td>\n",
              "      <td>0.194</td>\n",
              "      <td>-0.066</td>\n",
              "      <td>-0.124</td>\n",
              "      <td>0.142</td>\n",
              "      <td>0.042</td>\n",
              "      <td>1.000</td>\n",
              "      <td>0.588</td>\n",
              "      <td>0.565</td>\n",
              "      <td>0.223</td>\n",
              "      <td>0.224</td>\n",
              "      <td>-0.297</td>\n",
              "      <td>0.024</td>\n",
              "      <td>-0.075</td>\n",
              "      <td>-0.036</td>\n",
              "      <td>-0.032</td>\n",
              "      <td>0.007</td>\n",
              "      <td>-0.000</td>\n",
              "      <td>0.545</td>\n",
              "    </tr>\n",
              "    <tr>\n",
              "      <th>GarageCars</th>\n",
              "      <td>-0.040</td>\n",
              "      <td>0.289</td>\n",
              "      <td>0.151</td>\n",
              "      <td>0.599</td>\n",
              "      <td>-0.185</td>\n",
              "      <td>0.537</td>\n",
              "      <td>0.420</td>\n",
              "      <td>0.362</td>\n",
              "      <td>0.224</td>\n",
              "      <td>-0.037</td>\n",
              "      <td>0.214</td>\n",
              "      <td>0.449</td>\n",
              "      <td>0.446</td>\n",
              "      <td>0.175</td>\n",
              "      <td>-0.094</td>\n",
              "      <td>0.474</td>\n",
              "      <td>0.131</td>\n",
              "      <td>-0.025</td>\n",
              "      <td>0.465</td>\n",
              "      <td>0.216</td>\n",
              "      <td>0.083</td>\n",
              "      <td>-0.050</td>\n",
              "      <td>0.358</td>\n",
              "      <td>0.298</td>\n",
              "      <td>0.588</td>\n",
              "      <td>1.000</td>\n",
              "      <td>0.887</td>\n",
              "      <td>0.223</td>\n",
              "      <td>0.210</td>\n",
              "      <td>-0.151</td>\n",
              "      <td>0.036</td>\n",
              "      <td>0.052</td>\n",
              "      <td>0.003</td>\n",
              "      <td>-0.043</td>\n",
              "      <td>0.042</td>\n",
              "      <td>-0.037</td>\n",
              "      <td>0.680</td>\n",
              "    </tr>\n",
              "    <tr>\n",
              "      <th>GarageArea</th>\n",
              "      <td>-0.100</td>\n",
              "      <td>0.319</td>\n",
              "      <td>0.162</td>\n",
              "      <td>0.555</td>\n",
              "      <td>-0.151</td>\n",
              "      <td>0.477</td>\n",
              "      <td>0.370</td>\n",
              "      <td>0.362</td>\n",
              "      <td>0.269</td>\n",
              "      <td>-0.016</td>\n",
              "      <td>0.185</td>\n",
              "      <td>0.472</td>\n",
              "      <td>0.474</td>\n",
              "      <td>0.125</td>\n",
              "      <td>-0.067</td>\n",
              "      <td>0.455</td>\n",
              "      <td>0.171</td>\n",
              "      <td>-0.028</td>\n",
              "      <td>0.401</td>\n",
              "      <td>0.157</td>\n",
              "      <td>0.062</td>\n",
              "      <td>-0.064</td>\n",
              "      <td>0.325</td>\n",
              "      <td>0.257</td>\n",
              "      <td>0.565</td>\n",
              "      <td>0.887</td>\n",
              "      <td>1.000</td>\n",
              "      <td>0.220</td>\n",
              "      <td>0.228</td>\n",
              "      <td>-0.121</td>\n",
              "      <td>0.036</td>\n",
              "      <td>0.054</td>\n",
              "      <td>0.012</td>\n",
              "      <td>-0.027</td>\n",
              "      <td>0.035</td>\n",
              "      <td>-0.026</td>\n",
              "      <td>0.654</td>\n",
              "    </tr>\n",
              "    <tr>\n",
              "      <th>WoodDeckSF</th>\n",
              "      <td>-0.013</td>\n",
              "      <td>0.077</td>\n",
              "      <td>0.167</td>\n",
              "      <td>0.233</td>\n",
              "      <td>-0.003</td>\n",
              "      <td>0.223</td>\n",
              "      <td>0.204</td>\n",
              "      <td>0.149</td>\n",
              "      <td>0.201</td>\n",
              "      <td>0.069</td>\n",
              "      <td>-0.007</td>\n",
              "      <td>0.230</td>\n",
              "      <td>0.231</td>\n",
              "      <td>0.084</td>\n",
              "      <td>-0.025</td>\n",
              "      <td>0.242</td>\n",
              "      <td>0.175</td>\n",
              "      <td>0.035</td>\n",
              "      <td>0.182</td>\n",
              "      <td>0.105</td>\n",
              "      <td>0.044</td>\n",
              "      <td>-0.090</td>\n",
              "      <td>0.160</td>\n",
              "      <td>0.195</td>\n",
              "      <td>0.223</td>\n",
              "      <td>0.223</td>\n",
              "      <td>0.220</td>\n",
              "      <td>1.000</td>\n",
              "      <td>0.053</td>\n",
              "      <td>-0.125</td>\n",
              "      <td>-0.032</td>\n",
              "      <td>-0.073</td>\n",
              "      <td>0.068</td>\n",
              "      <td>-0.009</td>\n",
              "      <td>0.025</td>\n",
              "      <td>0.024</td>\n",
              "      <td>0.330</td>\n",
              "    </tr>\n",
              "    <tr>\n",
              "      <th>OpenPorchSF</th>\n",
              "      <td>-0.007</td>\n",
              "      <td>0.116</td>\n",
              "      <td>0.062</td>\n",
              "      <td>0.298</td>\n",
              "      <td>-0.030</td>\n",
              "      <td>0.184</td>\n",
              "      <td>0.223</td>\n",
              "      <td>0.106</td>\n",
              "      <td>0.072</td>\n",
              "      <td>0.005</td>\n",
              "      <td>0.129</td>\n",
              "      <td>0.216</td>\n",
              "      <td>0.179</td>\n",
              "      <td>0.198</td>\n",
              "      <td>0.019</td>\n",
              "      <td>0.307</td>\n",
              "      <td>0.056</td>\n",
              "      <td>-0.024</td>\n",
              "      <td>0.253</td>\n",
              "      <td>0.195</td>\n",
              "      <td>0.094</td>\n",
              "      <td>-0.070</td>\n",
              "      <td>0.220</td>\n",
              "      <td>0.161</td>\n",
              "      <td>0.224</td>\n",
              "      <td>0.210</td>\n",
              "      <td>0.228</td>\n",
              "      <td>0.053</td>\n",
              "      <td>1.000</td>\n",
              "      <td>-0.092</td>\n",
              "      <td>-0.005</td>\n",
              "      <td>0.077</td>\n",
              "      <td>0.030</td>\n",
              "      <td>-0.018</td>\n",
              "      <td>0.073</td>\n",
              "      <td>-0.056</td>\n",
              "      <td>0.324</td>\n",
              "    </tr>\n",
              "    <tr>\n",
              "      <th>EnclosedPorch</th>\n",
              "      <td>-0.012</td>\n",
              "      <td>0.017</td>\n",
              "      <td>-0.016</td>\n",
              "      <td>-0.112</td>\n",
              "      <td>0.070</td>\n",
              "      <td>-0.387</td>\n",
              "      <td>-0.193</td>\n",
              "      <td>-0.109</td>\n",
              "      <td>-0.103</td>\n",
              "      <td>0.036</td>\n",
              "      <td>-0.002</td>\n",
              "      <td>-0.096</td>\n",
              "      <td>-0.063</td>\n",
              "      <td>0.066</td>\n",
              "      <td>0.061</td>\n",
              "      <td>0.016</td>\n",
              "      <td>-0.049</td>\n",
              "      <td>-0.008</td>\n",
              "      <td>-0.114</td>\n",
              "      <td>-0.094</td>\n",
              "      <td>0.042</td>\n",
              "      <td>0.037</td>\n",
              "      <td>0.007</td>\n",
              "      <td>-0.023</td>\n",
              "      <td>-0.297</td>\n",
              "      <td>-0.151</td>\n",
              "      <td>-0.121</td>\n",
              "      <td>-0.125</td>\n",
              "      <td>-0.092</td>\n",
              "      <td>1.000</td>\n",
              "      <td>-0.037</td>\n",
              "      <td>-0.083</td>\n",
              "      <td>0.069</td>\n",
              "      <td>0.018</td>\n",
              "      <td>-0.030</td>\n",
              "      <td>-0.010</td>\n",
              "      <td>-0.149</td>\n",
              "    </tr>\n",
              "    <tr>\n",
              "      <th>3SsnPorch</th>\n",
              "      <td>-0.044</td>\n",
              "      <td>0.076</td>\n",
              "      <td>0.022</td>\n",
              "      <td>0.032</td>\n",
              "      <td>0.025</td>\n",
              "      <td>0.032</td>\n",
              "      <td>0.046</td>\n",
              "      <td>0.020</td>\n",
              "      <td>0.030</td>\n",
              "      <td>-0.030</td>\n",
              "      <td>0.021</td>\n",
              "      <td>0.042</td>\n",
              "      <td>0.061</td>\n",
              "      <td>-0.024</td>\n",
              "      <td>-0.004</td>\n",
              "      <td>0.024</td>\n",
              "      <td>0.000</td>\n",
              "      <td>0.036</td>\n",
              "      <td>0.036</td>\n",
              "      <td>-0.005</td>\n",
              "      <td>-0.024</td>\n",
              "      <td>-0.025</td>\n",
              "      <td>-0.006</td>\n",
              "      <td>0.012</td>\n",
              "      <td>0.024</td>\n",
              "      <td>0.036</td>\n",
              "      <td>0.036</td>\n",
              "      <td>-0.032</td>\n",
              "      <td>-0.005</td>\n",
              "      <td>-0.037</td>\n",
              "      <td>1.000</td>\n",
              "      <td>-0.032</td>\n",
              "      <td>-0.007</td>\n",
              "      <td>0.000</td>\n",
              "      <td>0.029</td>\n",
              "      <td>0.019</td>\n",
              "      <td>0.056</td>\n",
              "    </tr>\n",
              "    <tr>\n",
              "      <th>ScreenPorch</th>\n",
              "      <td>-0.026</td>\n",
              "      <td>0.048</td>\n",
              "      <td>0.046</td>\n",
              "      <td>0.068</td>\n",
              "      <td>0.055</td>\n",
              "      <td>-0.050</td>\n",
              "      <td>-0.038</td>\n",
              "      <td>0.065</td>\n",
              "      <td>0.070</td>\n",
              "      <td>0.089</td>\n",
              "      <td>-0.012</td>\n",
              "      <td>0.095</td>\n",
              "      <td>0.097</td>\n",
              "      <td>0.043</td>\n",
              "      <td>0.027</td>\n",
              "      <td>0.112</td>\n",
              "      <td>0.024</td>\n",
              "      <td>0.033</td>\n",
              "      <td>-0.007</td>\n",
              "      <td>0.073</td>\n",
              "      <td>0.045</td>\n",
              "      <td>-0.052</td>\n",
              "      <td>0.062</td>\n",
              "      <td>0.188</td>\n",
              "      <td>-0.075</td>\n",
              "      <td>0.052</td>\n",
              "      <td>0.054</td>\n",
              "      <td>-0.073</td>\n",
              "      <td>0.077</td>\n",
              "      <td>-0.083</td>\n",
              "      <td>-0.032</td>\n",
              "      <td>1.000</td>\n",
              "      <td>0.064</td>\n",
              "      <td>0.032</td>\n",
              "      <td>0.023</td>\n",
              "      <td>0.010</td>\n",
              "      <td>0.124</td>\n",
              "    </tr>\n",
              "    <tr>\n",
              "      <th>PoolArea</th>\n",
              "      <td>0.008</td>\n",
              "      <td>0.075</td>\n",
              "      <td>0.034</td>\n",
              "      <td>0.018</td>\n",
              "      <td>0.008</td>\n",
              "      <td>-0.014</td>\n",
              "      <td>-0.009</td>\n",
              "      <td>-0.016</td>\n",
              "      <td>0.016</td>\n",
              "      <td>0.053</td>\n",
              "      <td>-0.031</td>\n",
              "      <td>0.004</td>\n",
              "      <td>0.032</td>\n",
              "      <td>0.038</td>\n",
              "      <td>0.073</td>\n",
              "      <td>0.064</td>\n",
              "      <td>0.037</td>\n",
              "      <td>0.028</td>\n",
              "      <td>0.022</td>\n",
              "      <td>0.001</td>\n",
              "      <td>0.064</td>\n",
              "      <td>-0.012</td>\n",
              "      <td>0.042</td>\n",
              "      <td>0.051</td>\n",
              "      <td>-0.036</td>\n",
              "      <td>0.003</td>\n",
              "      <td>0.012</td>\n",
              "      <td>0.068</td>\n",
              "      <td>0.030</td>\n",
              "      <td>0.069</td>\n",
              "      <td>-0.007</td>\n",
              "      <td>0.064</td>\n",
              "      <td>1.000</td>\n",
              "      <td>0.035</td>\n",
              "      <td>-0.023</td>\n",
              "      <td>-0.063</td>\n",
              "      <td>0.041</td>\n",
              "    </tr>\n",
              "    <tr>\n",
              "      <th>MiscVal</th>\n",
              "      <td>-0.008</td>\n",
              "      <td>0.006</td>\n",
              "      <td>0.039</td>\n",
              "      <td>-0.031</td>\n",
              "      <td>0.069</td>\n",
              "      <td>-0.034</td>\n",
              "      <td>-0.010</td>\n",
              "      <td>-0.030</td>\n",
              "      <td>0.005</td>\n",
              "      <td>0.005</td>\n",
              "      <td>-0.024</td>\n",
              "      <td>-0.018</td>\n",
              "      <td>-0.021</td>\n",
              "      <td>0.017</td>\n",
              "      <td>-0.004</td>\n",
              "      <td>-0.001</td>\n",
              "      <td>-0.023</td>\n",
              "      <td>-0.007</td>\n",
              "      <td>-0.014</td>\n",
              "      <td>0.002</td>\n",
              "      <td>0.008</td>\n",
              "      <td>0.062</td>\n",
              "      <td>0.026</td>\n",
              "      <td>0.002</td>\n",
              "      <td>-0.032</td>\n",
              "      <td>-0.043</td>\n",
              "      <td>-0.027</td>\n",
              "      <td>-0.009</td>\n",
              "      <td>-0.018</td>\n",
              "      <td>0.018</td>\n",
              "      <td>0.000</td>\n",
              "      <td>0.032</td>\n",
              "      <td>0.035</td>\n",
              "      <td>1.000</td>\n",
              "      <td>-0.007</td>\n",
              "      <td>0.005</td>\n",
              "      <td>-0.020</td>\n",
              "    </tr>\n",
              "    <tr>\n",
              "      <th>MoSold</th>\n",
              "      <td>-0.014</td>\n",
              "      <td>0.028</td>\n",
              "      <td>0.007</td>\n",
              "      <td>0.076</td>\n",
              "      <td>-0.003</td>\n",
              "      <td>0.014</td>\n",
              "      <td>0.023</td>\n",
              "      <td>0.004</td>\n",
              "      <td>-0.002</td>\n",
              "      <td>-0.016</td>\n",
              "      <td>0.035</td>\n",
              "      <td>0.030</td>\n",
              "      <td>0.045</td>\n",
              "      <td>0.039</td>\n",
              "      <td>-0.022</td>\n",
              "      <td>0.065</td>\n",
              "      <td>-0.024</td>\n",
              "      <td>0.038</td>\n",
              "      <td>0.058</td>\n",
              "      <td>-0.007</td>\n",
              "      <td>0.048</td>\n",
              "      <td>0.026</td>\n",
              "      <td>0.042</td>\n",
              "      <td>0.054</td>\n",
              "      <td>0.007</td>\n",
              "      <td>0.042</td>\n",
              "      <td>0.035</td>\n",
              "      <td>0.025</td>\n",
              "      <td>0.073</td>\n",
              "      <td>-0.030</td>\n",
              "      <td>0.029</td>\n",
              "      <td>0.023</td>\n",
              "      <td>-0.023</td>\n",
              "      <td>-0.007</td>\n",
              "      <td>1.000</td>\n",
              "      <td>-0.146</td>\n",
              "      <td>0.062</td>\n",
              "    </tr>\n",
              "    <tr>\n",
              "      <th>YrSold</th>\n",
              "      <td>-0.021</td>\n",
              "      <td>0.011</td>\n",
              "      <td>-0.013</td>\n",
              "      <td>-0.024</td>\n",
              "      <td>0.044</td>\n",
              "      <td>-0.013</td>\n",
              "      <td>0.037</td>\n",
              "      <td>-0.005</td>\n",
              "      <td>0.019</td>\n",
              "      <td>0.031</td>\n",
              "      <td>-0.041</td>\n",
              "      <td>-0.012</td>\n",
              "      <td>-0.010</td>\n",
              "      <td>-0.025</td>\n",
              "      <td>-0.029</td>\n",
              "      <td>-0.032</td>\n",
              "      <td>0.068</td>\n",
              "      <td>-0.045</td>\n",
              "      <td>-0.017</td>\n",
              "      <td>-0.009</td>\n",
              "      <td>-0.035</td>\n",
              "      <td>0.031</td>\n",
              "      <td>-0.032</td>\n",
              "      <td>-0.023</td>\n",
              "      <td>-0.000</td>\n",
              "      <td>-0.037</td>\n",
              "      <td>-0.026</td>\n",
              "      <td>0.024</td>\n",
              "      <td>-0.056</td>\n",
              "      <td>-0.010</td>\n",
              "      <td>0.019</td>\n",
              "      <td>0.010</td>\n",
              "      <td>-0.063</td>\n",
              "      <td>0.005</td>\n",
              "      <td>-0.146</td>\n",
              "      <td>1.000</td>\n",
              "      <td>-0.035</td>\n",
              "    </tr>\n",
              "    <tr>\n",
              "      <th>SalePrice</th>\n",
              "      <td>-0.073</td>\n",
              "      <td>0.362</td>\n",
              "      <td>0.257</td>\n",
              "      <td>0.817</td>\n",
              "      <td>-0.032</td>\n",
              "      <td>0.590</td>\n",
              "      <td>0.570</td>\n",
              "      <td>0.425</td>\n",
              "      <td>0.380</td>\n",
              "      <td>0.008</td>\n",
              "      <td>0.222</td>\n",
              "      <td>0.638</td>\n",
              "      <td>0.610</td>\n",
              "      <td>0.306</td>\n",
              "      <td>-0.038</td>\n",
              "      <td>0.715</td>\n",
              "      <td>0.238</td>\n",
              "      <td>-0.013</td>\n",
              "      <td>0.590</td>\n",
              "      <td>0.312</td>\n",
              "      <td>0.207</td>\n",
              "      <td>-0.147</td>\n",
              "      <td>0.531</td>\n",
              "      <td>0.486</td>\n",
              "      <td>0.545</td>\n",
              "      <td>0.680</td>\n",
              "      <td>0.654</td>\n",
              "      <td>0.330</td>\n",
              "      <td>0.324</td>\n",
              "      <td>-0.149</td>\n",
              "      <td>0.056</td>\n",
              "      <td>0.124</td>\n",
              "      <td>0.041</td>\n",
              "      <td>-0.020</td>\n",
              "      <td>0.062</td>\n",
              "      <td>-0.035</td>\n",
              "      <td>1.000</td>\n",
              "    </tr>\n",
              "  </tbody>\n",
              "</table>\n",
              "</div>"
            ],
            "text/plain": [
              "               MSSubClass  LotFrontage  LotArea  ...  MoSold  YrSold  SalePrice\n",
              "MSSubClass          1.000       -0.409   -0.142  ...  -0.014  -0.021     -0.073\n",
              "LotFrontage        -0.409        1.000    0.388  ...   0.028   0.011      0.362\n",
              "LotArea            -0.142        0.388    1.000  ...   0.007  -0.013      0.257\n",
              "OverallQual         0.032        0.226    0.089  ...   0.076  -0.024      0.817\n",
              "OverallCond        -0.059       -0.056   -0.003  ...  -0.003   0.044     -0.032\n",
              "YearBuilt           0.028        0.114    0.007  ...   0.014  -0.013      0.590\n",
              "YearRemodAdd        0.040        0.080    0.007  ...   0.023   0.037      0.570\n",
              "MasVnrArea          0.023        0.162    0.081  ...   0.004  -0.005      0.425\n",
              "BsmtFinSF1         -0.075        0.134    0.173  ...  -0.002   0.019      0.380\n",
              "BsmtFinSF2         -0.066        0.057    0.115  ...  -0.016   0.031      0.008\n",
              "BsmtUnfSF          -0.141        0.142   -0.004  ...   0.035  -0.041      0.222\n",
              "TotalBsmtSF        -0.255        0.313    0.222  ...   0.030  -0.012      0.638\n",
              "1stFlrSF           -0.265        0.398    0.268  ...   0.045  -0.010      0.610\n",
              "2ndFlrSF            0.311        0.050    0.037  ...   0.039  -0.025      0.306\n",
              "LowQualFinSF        0.046        0.043    0.006  ...  -0.022  -0.029     -0.038\n",
              "GrLivArea           0.078        0.341    0.232  ...   0.065  -0.032      0.715\n",
              "BsmtFullBath        0.003        0.075    0.148  ...  -0.024   0.068      0.238\n",
              "BsmtHalfBath       -0.003       -0.009    0.047  ...   0.038  -0.045     -0.013\n",
              "FullBath            0.132        0.187    0.117  ...   0.058  -0.017      0.590\n",
              "HalfBath            0.177        0.037    0.006  ...  -0.007  -0.009      0.312\n",
              "BedroomAbvGr       -0.024        0.270    0.119  ...   0.048  -0.035      0.207\n",
              "KitchenAbvGr        0.282       -0.003   -0.017  ...   0.026   0.031     -0.147\n",
              "TotRmsAbvGrd        0.040        0.330    0.174  ...   0.042  -0.032      0.531\n",
              "Fireplaces         -0.046        0.238    0.260  ...   0.054  -0.023      0.486\n",
              "GarageYrBlt         0.085        0.058   -0.033  ...   0.007  -0.000      0.545\n",
              "GarageCars         -0.040        0.289    0.151  ...   0.042  -0.037      0.680\n",
              "GarageArea         -0.100        0.319    0.162  ...   0.035  -0.026      0.654\n",
              "WoodDeckSF         -0.013        0.077    0.167  ...   0.025   0.024      0.330\n",
              "OpenPorchSF        -0.007        0.116    0.062  ...   0.073  -0.056      0.324\n",
              "EnclosedPorch      -0.012        0.017   -0.016  ...  -0.030  -0.010     -0.149\n",
              "3SsnPorch          -0.044        0.076    0.022  ...   0.029   0.019      0.056\n",
              "ScreenPorch        -0.026        0.048    0.046  ...   0.023   0.010      0.124\n",
              "PoolArea            0.008        0.075    0.034  ...  -0.023  -0.063      0.041\n",
              "MiscVal            -0.008        0.006    0.039  ...  -0.007   0.005     -0.020\n",
              "MoSold             -0.014        0.028    0.007  ...   1.000  -0.146      0.062\n",
              "YrSold             -0.021        0.011   -0.013  ...  -0.146   1.000     -0.035\n",
              "SalePrice          -0.073        0.362    0.257  ...   0.062  -0.035      1.000\n",
              "\n",
              "[37 rows x 37 columns]"
            ]
          },
          "metadata": {
            "tags": []
          },
          "execution_count": 80
        }
      ]
    },
    {
      "cell_type": "code",
      "metadata": {
        "id": "r4Dzz122j4_n",
        "colab_type": "code",
        "colab": {
          "base_uri": "https://localhost:8080/",
          "height": 286
        },
        "outputId": "a65b2a93-3527-4bbe-83e7-51b47ca81dba"
      },
      "source": [
        "fig, ax  = plt.subplots()\n",
        "ax.scatter(x = train.OverallQual, y = train.SalePrice)\n",
        "plt.ylabel('SalePrice', fontsize = 12)\n",
        "plt.xlabel('OverallQuality', fontsize = 12)\n",
        "plt.show()"
      ],
      "execution_count": 81,
      "outputs": [
        {
          "output_type": "display_data",
          "data": {
            "image/png": "[encoded data removed]",
            "text/plain": [
              "<Figure size 432x288 with 1 Axes>"
            ]
          },
          "metadata": {
            "tags": []
          }
        }
      ]
    },
    {
      "cell_type": "code",
      "metadata": {
        "id": "g2CewrWltiHO",
        "colab_type": "code",
        "colab": {
          "base_uri": "https://localhost:8080/",
          "height": 34
        },
        "outputId": "81ad0924-a0c0-4ff3-e916-c79c770b1b26"
      },
      "source": [
        "Data.PoolQC.unique()"
      ],
      "execution_count": 83,
      "outputs": [
        {
          "output_type": "execute_result",
          "data": {
            "text/plain": [
              "array([nan, 'Ex', 'Fa', 'Gd'], dtype=object)"
            ]
          },
          "metadata": {
            "tags": []
          },
          "execution_count": 83
        }
      ]
    },
    {
      "cell_type": "code",
      "metadata": {
        "id": "l-U1I05Mtts_",
        "colab_type": "code",
        "colab": {}
      },
      "source": [
        "Data.PoolQC.fillna('None', inplace = True)"
      ],
      "execution_count": 0,
      "outputs": []
    },
    {
      "cell_type": "code",
      "metadata": {
        "id": "ki41uIC8t_D3",
        "colab_type": "code",
        "colab": {
          "base_uri": "https://localhost:8080/",
          "height": 34
        },
        "outputId": "3bca69a7-efb4-4bc3-e2a9-28ca9cfeb7d0"
      },
      "source": [
        "Data.PoolQC.unique()"
      ],
      "execution_count": 86,
      "outputs": [
        {
          "output_type": "execute_result",
          "data": {
            "text/plain": [
              "array(['None', 'Ex', 'Fa', 'Gd'], dtype=object)"
            ]
          },
          "metadata": {
            "tags": []
          },
          "execution_count": 86
        }
      ]
    },
    {
      "cell_type": "code",
      "metadata": {
        "id": "ocrFa65vuHC_",
        "colab_type": "code",
        "colab": {
          "base_uri": "https://localhost:8080/",
          "height": 34
        },
        "outputId": "baad22f3-6da5-4313-ee2c-7ebdc94dc7df"
      },
      "source": [
        "Data.MiscFeature.unique()"
      ],
      "execution_count": 87,
      "outputs": [
        {
          "output_type": "execute_result",
          "data": {
            "text/plain": [
              "array([nan, 'Shed', 'Gar2', 'Othr', 'TenC'], dtype=object)"
            ]
          },
          "metadata": {
            "tags": []
          },
          "execution_count": 87
        }
      ]
    },
    {
      "cell_type": "code",
      "metadata": {
        "id": "HwtlOxejuLmW",
        "colab_type": "code",
        "colab": {
          "base_uri": "https://localhost:8080/",
          "height": 34
        },
        "outputId": "5dfe8a62-3d70-4402-c4c6-15829c49cf18"
      },
      "source": [
        "Data.MiscFeature.fillna('None', inplace = True)\n",
        "Data.MiscFeature.unique()"
      ],
      "execution_count": 88,
      "outputs": [
        {
          "output_type": "execute_result",
          "data": {
            "text/plain": [
              "array(['None', 'Shed', 'Gar2', 'Othr', 'TenC'], dtype=object)"
            ]
          },
          "metadata": {
            "tags": []
          },
          "execution_count": 88
        }
      ]
    },
    {
      "cell_type": "code",
      "metadata": {
        "id": "F85WaKmauXy3",
        "colab_type": "code",
        "colab": {
          "base_uri": "https://localhost:8080/",
          "height": 102
        },
        "outputId": "0f7f3db2-6bef-42b4-ed96-fac5f19b2ad5"
      },
      "source": [
        "Data.Alley.fillna('None', inplace = True)\n",
        "Data.Fence.fillna('None', inplace = True)\n",
        "Data.FireplaceQu.fillna('None', inplace = True)\n",
        "Data.Neighborhood.unique()"
      ],
      "execution_count": 90,
      "outputs": [
        {
          "output_type": "execute_result",
          "data": {
            "text/plain": [
              "array(['CollgCr', 'Veenker', 'Crawfor', 'NoRidge', 'Mitchel', 'Somerst',\n",
              "       'NWAmes', 'OldTown', 'BrkSide', 'Sawyer', 'NridgHt', 'NAmes',\n",
              "       'SawyerW', 'IDOTRR', 'MeadowV', 'Edwards', 'Timber', 'Gilbert',\n",
              "       'StoneBr', 'ClearCr', 'NPkVill', 'Blmngtn', 'BrDale', 'SWISU',\n",
              "       'Blueste'], dtype=object)"
            ]
          },
          "metadata": {
            "tags": []
          },
          "execution_count": 90
        }
      ]
    },
    {
      "cell_type": "code",
      "metadata": {
        "id": "GQS55Stbu5qH",
        "colab_type": "code",
        "colab": {}
      },
      "source": [
        "Data.Alley.fillna('None', inplace = True)\n"
      ],
      "execution_count": 0,
      "outputs": []
    },
    {
      "cell_type": "code",
      "metadata": {
        "id": "tvt_LrGwvEiw",
        "colab_type": "code",
        "colab": {}
      },
      "source": [
        "Data.LotFrontage = Data.groupby('Neighborhood')['LotFrontage'].transform(lambda x : x.fillna(x.median()))"
      ],
      "execution_count": 0,
      "outputs": []
    },
    {
      "cell_type": "code",
      "metadata": {
        "id": "Bp6hAdD_vNXP",
        "colab_type": "code",
        "colab": {}
      },
      "source": [
        "for col in ('GarageType', 'GarageFinish', 'GarageQual', 'GarageCond'):\n",
        "    Data[col] = Data[col].fillna('None')"
      ],
      "execution_count": 0,
      "outputs": []
    },
    {
      "cell_type": "code",
      "metadata": {
        "id": "ecCb89sEv5Av",
        "colab_type": "code",
        "colab": {}
      },
      "source": [
        "for col in ('GarageYrBlt', \n",
        "            'GarageArea', \n",
        "            'GarageCars',\n",
        "            'BsmtFinSF1', \n",
        "            'BsmtFinSF2', \n",
        "            'BsmtUnfSF',\n",
        "            'TotalBsmtSF', \n",
        "            'BsmtFullBath', \n",
        "            'BsmtHalfBath'):\n",
        "  Data[col] = Data[col].fillna(0)"
      ],
      "execution_count": 0,
      "outputs": []
    },
    {
      "cell_type": "code",
      "metadata": {
        "id": "7HWsbZkIwDue",
        "colab_type": "code",
        "colab": {
          "base_uri": "https://localhost:8080/",
          "height": 51
        },
        "outputId": "4c1d6a76-5b57-41c7-a9bd-5a03062c247f"
      },
      "source": [
        "Data.Electrical.mode()"
      ],
      "execution_count": 99,
      "outputs": [
        {
          "output_type": "execute_result",
          "data": {
            "text/plain": [
              "0    SBrkr\n",
              "dtype: object"
            ]
          },
          "metadata": {
            "tags": []
          },
          "execution_count": 99
        }
      ]
    },
    {
      "cell_type": "code",
      "metadata": {
        "id": "OS2idhSpwQVw",
        "colab_type": "code",
        "colab": {}
      },
      "source": [
        "Data['Electrical'].fillna(Data['Electrical'].mode())\n",
        "Data['SaleType'] = Data['SaleType'].fillna(Data['SaleType'].mode()[0])\n",
        "Data['Exterior1st'] = Data['Exterior1st'].fillna(Data['Exterior1st'].mode()[0])\n",
        "Data['Exterior2nd'] = Data['Exterior2nd'].fillna(Data['Exterior2nd'].mode()[0])\n",
        "Data['KitchenQual'] = Data['KitchenQual'].fillna(Data['KitchenQual'].mode()[0])\n",
        "Data['Electrical'] = Data['Electrical'].fillna(Data['Electrical'].mode()[0])\n",
        "Data[\"Functional\"] = Data[\"Functional\"].fillna(\"Typ\")\n",
        "Data = Data.drop(['Utilities'], axis=1)\n",
        "Data['MSZoning'] = Data['MSZoning'].fillna(Data['MSZoning'].mode()[0])\n",
        "Data[\"MasVnrType\"] = Data[\"MasVnrType\"].fillna(\"None\")\n",
        "Data[\"MasVnrArea\"] = Data[\"MasVnrArea\"].fillna(0)"
      ],
      "execution_count": 0,
      "outputs": []
    },
    {
      "cell_type": "code",
      "metadata": {
        "id": "YeaCqHXowXTy",
        "colab_type": "code",
        "colab": {}
      },
      "source": [
        "Data.MSSubClass.fillna('None', inplace = True)"
      ],
      "execution_count": 0,
      "outputs": []
    },
    {
      "cell_type": "code",
      "metadata": {
        "id": "ciknleRawq_v",
        "colab_type": "code",
        "colab": {
          "base_uri": "https://localhost:8080/",
          "height": 235
        },
        "outputId": "3ccc36da-f121-44e9-8cb6-1ea348c99d10"
      },
      "source": [
        "null_data = Data.isnull().sum() / len(Data)\n",
        "null_data = null_data.drop(null_data[null_data == 0].index).sort_values(ascending=False)\n",
        "missing_data = pd.DataFrame({'Missing Ratio' :null_data})\n",
        "missing_data"
      ],
      "execution_count": 104,
      "outputs": [
        {
          "output_type": "execute_result",
          "data": {
            "text/html": [
              "<div>\n",
              "<style scoped>\n",
              "    .dataframe tbody tr th:only-of-type {\n",
              "        vertical-align: middle;\n",
              "    }\n",
              "\n",
              "    .dataframe tbody tr th {\n",
              "        vertical-align: top;\n",
              "    }\n",
              "\n",
              "    .dataframe thead th {\n",
              "        text-align: right;\n",
              "    }\n",
              "</style>\n",
              "<table border=\"1\" class=\"dataframe\">\n",
              "  <thead>\n",
              "    <tr style=\"text-align: right;\">\n",
              "      <th></th>\n",
              "      <th>Missing Ratio</th>\n",
              "    </tr>\n",
              "  </thead>\n",
              "  <tbody>\n",
              "    <tr>\n",
              "      <th>SalePrice</th>\n",
              "      <td>0.501</td>\n",
              "    </tr>\n",
              "    <tr>\n",
              "      <th>BsmtExposure</th>\n",
              "      <td>0.028</td>\n",
              "    </tr>\n",
              "    <tr>\n",
              "      <th>BsmtCond</th>\n",
              "      <td>0.028</td>\n",
              "    </tr>\n",
              "    <tr>\n",
              "      <th>BsmtQual</th>\n",
              "      <td>0.028</td>\n",
              "    </tr>\n",
              "    <tr>\n",
              "      <th>BsmtFinType2</th>\n",
              "      <td>0.027</td>\n",
              "    </tr>\n",
              "    <tr>\n",
              "      <th>BsmtFinType1</th>\n",
              "      <td>0.027</td>\n",
              "    </tr>\n",
              "  </tbody>\n",
              "</table>\n",
              "</div>"
            ],
            "text/plain": [
              "              Missing Ratio\n",
              "SalePrice             0.501\n",
              "BsmtExposure          0.028\n",
              "BsmtCond              0.028\n",
              "BsmtQual              0.028\n",
              "BsmtFinType2          0.027\n",
              "BsmtFinType1          0.027"
            ]
          },
          "metadata": {
            "tags": []
          },
          "execution_count": 104
        }
      ]
    },
    {
      "cell_type": "code",
      "metadata": {
        "id": "ro1g3N-gw482",
        "colab_type": "code",
        "colab": {
          "base_uri": "https://localhost:8080/",
          "height": 136
        },
        "outputId": "255abada-7a11-4378-cf84-8a23ee4f59d0"
      },
      "source": [
        "null_data"
      ],
      "execution_count": 105,
      "outputs": [
        {
          "output_type": "execute_result",
          "data": {
            "text/plain": [
              "SalePrice      0.501\n",
              "BsmtExposure   0.028\n",
              "BsmtCond       0.028\n",
              "BsmtQual       0.028\n",
              "BsmtFinType2   0.027\n",
              "BsmtFinType1   0.027\n",
              "dtype: float64"
            ]
          },
          "metadata": {
            "tags": []
          },
          "execution_count": 105
        }
      ]
    },
    {
      "cell_type": "code",
      "metadata": {
        "id": "6imXlTRLxDpP",
        "colab_type": "code",
        "colab": {}
      },
      "source": [
        ""
      ],
      "execution_count": 0,
      "outputs": []
    }
  ]
}