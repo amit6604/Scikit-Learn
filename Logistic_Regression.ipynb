{
  "nbformat": 4,
  "nbformat_minor": 0,
  "metadata": {
    "colab": {
      "name": "Logistic Regression.ipynb",
      "version": "0.3.2",
      "provenance": [],
      "include_colab_link": true
    },
    "kernelspec": {
      "name": "python3",
      "display_name": "Python 3"
    },
    "accelerator": "GPU"
  },
  "cells": [
    {
      "cell_type": "markdown",
      "metadata": {
        "id": "view-in-github",
        "colab_type": "text"
      },
      "source": [
        "<a href=\"https://colab.research.google.com/github/amit6604/Scikit-Learn/blob/master/Logistic_Regression.ipynb\" target=\"_parent\"><img src=\"https://colab.research.google.com/assets/colab-badge.svg\" alt=\"Open In Colab\"/></a>"
      ]
    },
    {
      "cell_type": "markdown",
      "metadata": {
        "id": "kQiyDlberdQH",
        "colab_type": "text"
      },
      "source": [
        "In this notebook, you will learn Logistic Regression, and then, you'll create a model for a telecommunication company, to predict when its customers will leave for a competitor, so that they can take some action to retain the customers.\n",
        "\n",
        "\n",
        "<a id=\"ref1\"></a>\n",
        "## What is different between Linear and Logistic Regression?\n",
        "\n",
        "While Linear Regression is suited for estimating continuous values (e.g. estimating house price), it is not the best tool for predicting the class of an observed data point. In order to estimate the class of a data point, we need some sort of guidance on what would be the **most probable class** for that data point. For this, we use **Logistic Regression**.\n",
        "\n",
        "<div class=\"alert alert-success alertsuccess\" style=\"margin-top: 20px\">\n",
        "<font size = 3><strong>Recall linear regression:</strong></font>\n",
        "<br>\n",
        "<br>\n",
        "As you know, __Linear regression__ finds a function that relates a continuous dependent variable, _y_, to some predictors (independent variables _x1_, _x2_, etc.). For example, Simple linear regression assumes a function of the form:\n",
        "<br><br>\n",
        "$$\n",
        "y = 𝜃0 + 𝜃1 * x1 + 𝜃2 * x2 +...\n",
        "$$\n",
        "<br>\n",
        "and finds the values of parameters _θ0_, _θ1_, _𝜃2_, etc, where the term _𝜃0_ is the \"intercept\". It can be generally shown as:\n",
        "<br><br>\n",
        "$$\n",
        "ℎ_θ(𝑥) = 𝜃^TX\n",
        "$$\n",
        "<p></p>\n",
        "\n",
        "</div>\n",
        "\n",
        "Logistic Regression is a variation of Linear Regression, useful when the observed dependent variable, _y_, is categorical. It produces a formula that predicts the probability of the class label as a function of the independent variables.\n",
        "\n",
        "Logistic regression fits a special s-shaped curve by taking the linear regression and transforming the numeric estimate into a probability with the following function, which is called sigmoid function 𝜎:\n",
        "\n",
        "$$\n",
        "ℎ_θ(𝑥) = 𝜎({θ^TX}) =  \\frac {e^{(θ0 + θ1 * x1 + θ2 * x2 +...)}}{1 + e^{(θ0 + θ1 * x1 + θ2 * x2 +...)}}\n",
        "$$\n",
        "Or:\n",
        "$$\n",
        "ProbabilityOfaClass_1 =  P(Y=1|X) = 𝜎({θ^TX}) = \\frac{e^{θ^TX}}{1+e^{θ^TX}} \n",
        "$$\n",
        "\n",
        "In this equation, ${θ^TX}$ is the regression result (the sum of the variables weighted by the coefficients), `exp` is the exponential function and $𝜎(θ^TX)$ is the sigmoid or [logistic function](http://en.wikipedia.org/wiki/Logistic_function), also called logistic curve. It is a common \"S\" shape (sigmoid curve).\n",
        "\n",
        "So, briefly, Logistic Regression passes the input through the logistic/sigmoid but then treats the result as a probability:\n",
        "\n",
        "\n",
        "The objective of __Logistic Regression__ algorithm, is to find the best parameters θ, for ℎ_θ(𝑥) = 𝜎({θ^TX}), in such a way that the model best predicts the class of each case."
      ]
    },
    {
      "cell_type": "markdown",
      "metadata": {
        "id": "ran8WWeExIAa",
        "colab_type": "text"
      },
      "source": [
        "### Customer churn with Logistic Regression\n",
        "A telecommunications company is concerned about the number of customers leaving their land-line business for cable competitors. They need to understand who is leaving. Imagine that you’re an analyst at this company and you have to find out who is leaving and why."
      ]
    },
    {
      "cell_type": "markdown",
      "metadata": {
        "id": "31sHrrVhxOWK",
        "colab_type": "text"
      },
      "source": [
        "Lets first import required libraries:"
      ]
    },
    {
      "cell_type": "code",
      "metadata": {
        "id": "UzyTwRVcxOrU",
        "colab_type": "code",
        "colab": {}
      },
      "source": [
        "import pandas as pd\n",
        "import pylab as pl\n",
        "import numpy as np\n",
        "import scipy.optimize as opt\n",
        "from sklearn import preprocessing\n",
        "import matplotlib.pyplot as plt\n",
        "%matplotlib inline "
      ],
      "execution_count": 0,
      "outputs": []
    },
    {
      "cell_type": "markdown",
      "metadata": {
        "id": "oLf9hqe3xSDG",
        "colab_type": "text"
      },
      "source": [
        "### About dataset\n",
        "We’ll use a telecommunications data for predicting customer churn. This is a historical customer data where each row represents one customer. The data is relatively easy to understand, and you may uncover insights you can use immediately. Typically it’s less expensive to keep customers than acquire new ones, so the focus of this analysis is to predict the customers who will stay with the company. \n",
        "\n",
        "\n",
        "This data set provides info to help you predict behavior to retain customers. You can analyze all relevant customer data and develop focused customer retention programs.\n",
        "\n",
        "\n",
        "\n",
        "The data set includes information about:\n",
        "\n",
        "- Customers who left within the last month – the column is called Churn\n",
        "- Services that each customer has signed up for – phone, multiple lines, internet, online security, online backup, device protection, tech support, and streaming TV and movies\n",
        "- Customer account information – how long they’ve been a customer, contract, payment method, paperless billing, monthly charges, and total charges\n",
        "- Demographic info about customers – gender, age range, and if they have partners and dependents\n"
      ]
    },
    {
      "cell_type": "markdown",
      "metadata": {
        "id": "oCu1vO1exZlB",
        "colab_type": "text"
      },
      "source": [
        "###  Load the Telco Churn data \n",
        "Telco Churn is a hypothetical data file that concerns a telecommunications company's efforts to reduce turnover in its customer base. Each case corresponds to a separate customer and it records various demographic and service usage information. Before you can work with the data, you must use the URL to get the ChurnData.csv.\n",
        "\n",
        "To download the data, we will use `!wget` to download it from IBM Object Storage."
      ]
    },
    {
      "cell_type": "code",
      "metadata": {
        "id": "pM9VYw8GxfyV",
        "colab_type": "code",
        "colab": {
          "base_uri": "https://localhost:8080/",
          "height": 204
        },
        "outputId": "12768308-75d2-463f-a72f-7a54a8ba7f58"
      },
      "source": [
        "!wget -O ChurnData.csv https://s3-api.us-geo.objectstorage.softlayer.net/cf-courses-data/CognitiveClass/ML0101ENv3/labs/ChurnData.csv"
      ],
      "execution_count": 4,
      "outputs": [
        {
          "output_type": "stream",
          "text": [
            "--2019-06-09 10:26:15--  https://s3-api.us-geo.objectstorage.softlayer.net/cf-courses-data/CognitiveClass/ML0101ENv3/labs/ChurnData.csv\n",
            "Resolving s3-api.us-geo.objectstorage.softlayer.net (s3-api.us-geo.objectstorage.softlayer.net)... 67.228.254.193\n",
            "Connecting to s3-api.us-geo.objectstorage.softlayer.net (s3-api.us-geo.objectstorage.softlayer.net)|67.228.254.193|:443... connected.\n",
            "HTTP request sent, awaiting response... 200 OK\n",
            "Length: 36144 (35K) [text/csv]\n",
            "Saving to: ‘ChurnData.csv’\n",
            "\n",
            "\rChurnData.csv         0%[                    ]       0  --.-KB/s               \rChurnData.csv       100%[===================>]  35.30K  --.-KB/s    in 0.02s   \n",
            "\n",
            "2019-06-09 10:26:15 (2.19 MB/s) - ‘ChurnData.csv’ saved [36144/36144]\n",
            "\n"
          ],
          "name": "stdout"
        }
      ]
    },
    {
      "cell_type": "code",
      "metadata": {
        "id": "5HWzG3dpxjYq",
        "colab_type": "code",
        "colab": {
          "base_uri": "https://localhost:8080/",
          "height": 224
        },
        "outputId": "d6265d0b-3c74-4f43-d9dc-fdd4ecbac269"
      },
      "source": [
        "### Load Data From CSV File  \n",
        "\n",
        "df = pd.read_csv(\"ChurnData.csv\")\n",
        "df.head()"
      ],
      "execution_count": 5,
      "outputs": [
        {
          "output_type": "execute_result",
          "data": {
            "text/html": [
              "<div>\n",
              "<style scoped>\n",
              "    .dataframe tbody tr th:only-of-type {\n",
              "        vertical-align: middle;\n",
              "    }\n",
              "\n",
              "    .dataframe tbody tr th {\n",
              "        vertical-align: top;\n",
              "    }\n",
              "\n",
              "    .dataframe thead th {\n",
              "        text-align: right;\n",
              "    }\n",
              "</style>\n",
              "<table border=\"1\" class=\"dataframe\">\n",
              "  <thead>\n",
              "    <tr style=\"text-align: right;\">\n",
              "      <th></th>\n",
              "      <th>tenure</th>\n",
              "      <th>age</th>\n",
              "      <th>address</th>\n",
              "      <th>income</th>\n",
              "      <th>ed</th>\n",
              "      <th>employ</th>\n",
              "      <th>equip</th>\n",
              "      <th>callcard</th>\n",
              "      <th>wireless</th>\n",
              "      <th>longmon</th>\n",
              "      <th>tollmon</th>\n",
              "      <th>equipmon</th>\n",
              "      <th>cardmon</th>\n",
              "      <th>wiremon</th>\n",
              "      <th>longten</th>\n",
              "      <th>tollten</th>\n",
              "      <th>cardten</th>\n",
              "      <th>voice</th>\n",
              "      <th>pager</th>\n",
              "      <th>internet</th>\n",
              "      <th>callwait</th>\n",
              "      <th>confer</th>\n",
              "      <th>ebill</th>\n",
              "      <th>loglong</th>\n",
              "      <th>logtoll</th>\n",
              "      <th>lninc</th>\n",
              "      <th>custcat</th>\n",
              "      <th>churn</th>\n",
              "    </tr>\n",
              "  </thead>\n",
              "  <tbody>\n",
              "    <tr>\n",
              "      <th>0</th>\n",
              "      <td>11.0</td>\n",
              "      <td>33.0</td>\n",
              "      <td>7.0</td>\n",
              "      <td>136.0</td>\n",
              "      <td>5.0</td>\n",
              "      <td>5.0</td>\n",
              "      <td>0.0</td>\n",
              "      <td>1.0</td>\n",
              "      <td>1.0</td>\n",
              "      <td>4.40</td>\n",
              "      <td>20.75</td>\n",
              "      <td>0.0</td>\n",
              "      <td>15.25</td>\n",
              "      <td>35.7</td>\n",
              "      <td>42.00</td>\n",
              "      <td>211.45</td>\n",
              "      <td>125.0</td>\n",
              "      <td>1.0</td>\n",
              "      <td>1.0</td>\n",
              "      <td>0.0</td>\n",
              "      <td>1.0</td>\n",
              "      <td>1.0</td>\n",
              "      <td>0.0</td>\n",
              "      <td>1.482</td>\n",
              "      <td>3.033</td>\n",
              "      <td>4.913</td>\n",
              "      <td>4.0</td>\n",
              "      <td>1.0</td>\n",
              "    </tr>\n",
              "    <tr>\n",
              "      <th>1</th>\n",
              "      <td>33.0</td>\n",
              "      <td>33.0</td>\n",
              "      <td>12.0</td>\n",
              "      <td>33.0</td>\n",
              "      <td>2.0</td>\n",
              "      <td>0.0</td>\n",
              "      <td>0.0</td>\n",
              "      <td>0.0</td>\n",
              "      <td>0.0</td>\n",
              "      <td>9.45</td>\n",
              "      <td>0.00</td>\n",
              "      <td>0.0</td>\n",
              "      <td>0.00</td>\n",
              "      <td>0.0</td>\n",
              "      <td>288.80</td>\n",
              "      <td>0.00</td>\n",
              "      <td>0.0</td>\n",
              "      <td>0.0</td>\n",
              "      <td>0.0</td>\n",
              "      <td>0.0</td>\n",
              "      <td>0.0</td>\n",
              "      <td>0.0</td>\n",
              "      <td>0.0</td>\n",
              "      <td>2.246</td>\n",
              "      <td>3.240</td>\n",
              "      <td>3.497</td>\n",
              "      <td>1.0</td>\n",
              "      <td>1.0</td>\n",
              "    </tr>\n",
              "    <tr>\n",
              "      <th>2</th>\n",
              "      <td>23.0</td>\n",
              "      <td>30.0</td>\n",
              "      <td>9.0</td>\n",
              "      <td>30.0</td>\n",
              "      <td>1.0</td>\n",
              "      <td>2.0</td>\n",
              "      <td>0.0</td>\n",
              "      <td>0.0</td>\n",
              "      <td>0.0</td>\n",
              "      <td>6.30</td>\n",
              "      <td>0.00</td>\n",
              "      <td>0.0</td>\n",
              "      <td>0.00</td>\n",
              "      <td>0.0</td>\n",
              "      <td>157.05</td>\n",
              "      <td>0.00</td>\n",
              "      <td>0.0</td>\n",
              "      <td>0.0</td>\n",
              "      <td>0.0</td>\n",
              "      <td>0.0</td>\n",
              "      <td>0.0</td>\n",
              "      <td>1.0</td>\n",
              "      <td>0.0</td>\n",
              "      <td>1.841</td>\n",
              "      <td>3.240</td>\n",
              "      <td>3.401</td>\n",
              "      <td>3.0</td>\n",
              "      <td>0.0</td>\n",
              "    </tr>\n",
              "    <tr>\n",
              "      <th>3</th>\n",
              "      <td>38.0</td>\n",
              "      <td>35.0</td>\n",
              "      <td>5.0</td>\n",
              "      <td>76.0</td>\n",
              "      <td>2.0</td>\n",
              "      <td>10.0</td>\n",
              "      <td>1.0</td>\n",
              "      <td>1.0</td>\n",
              "      <td>1.0</td>\n",
              "      <td>6.05</td>\n",
              "      <td>45.00</td>\n",
              "      <td>50.1</td>\n",
              "      <td>23.25</td>\n",
              "      <td>64.9</td>\n",
              "      <td>239.55</td>\n",
              "      <td>1873.05</td>\n",
              "      <td>880.0</td>\n",
              "      <td>1.0</td>\n",
              "      <td>1.0</td>\n",
              "      <td>1.0</td>\n",
              "      <td>1.0</td>\n",
              "      <td>1.0</td>\n",
              "      <td>1.0</td>\n",
              "      <td>1.800</td>\n",
              "      <td>3.807</td>\n",
              "      <td>4.331</td>\n",
              "      <td>4.0</td>\n",
              "      <td>0.0</td>\n",
              "    </tr>\n",
              "    <tr>\n",
              "      <th>4</th>\n",
              "      <td>7.0</td>\n",
              "      <td>35.0</td>\n",
              "      <td>14.0</td>\n",
              "      <td>80.0</td>\n",
              "      <td>2.0</td>\n",
              "      <td>15.0</td>\n",
              "      <td>0.0</td>\n",
              "      <td>1.0</td>\n",
              "      <td>0.0</td>\n",
              "      <td>7.10</td>\n",
              "      <td>22.00</td>\n",
              "      <td>0.0</td>\n",
              "      <td>23.75</td>\n",
              "      <td>0.0</td>\n",
              "      <td>47.45</td>\n",
              "      <td>166.10</td>\n",
              "      <td>145.0</td>\n",
              "      <td>1.0</td>\n",
              "      <td>0.0</td>\n",
              "      <td>0.0</td>\n",
              "      <td>1.0</td>\n",
              "      <td>1.0</td>\n",
              "      <td>0.0</td>\n",
              "      <td>1.960</td>\n",
              "      <td>3.091</td>\n",
              "      <td>4.382</td>\n",
              "      <td>3.0</td>\n",
              "      <td>0.0</td>\n",
              "    </tr>\n",
              "  </tbody>\n",
              "</table>\n",
              "</div>"
            ],
            "text/plain": [
              "   tenure   age  address  income   ed  ...  loglong  logtoll  lninc  custcat  churn\n",
              "0    11.0  33.0      7.0   136.0  5.0  ...    1.482    3.033  4.913      4.0    1.0\n",
              "1    33.0  33.0     12.0    33.0  2.0  ...    2.246    3.240  3.497      1.0    1.0\n",
              "2    23.0  30.0      9.0    30.0  1.0  ...    1.841    3.240  3.401      3.0    0.0\n",
              "3    38.0  35.0      5.0    76.0  2.0  ...    1.800    3.807  4.331      4.0    0.0\n",
              "4     7.0  35.0     14.0    80.0  2.0  ...    1.960    3.091  4.382      3.0    0.0\n",
              "\n",
              "[5 rows x 28 columns]"
            ]
          },
          "metadata": {
            "tags": []
          },
          "execution_count": 5
        }
      ]
    },
    {
      "cell_type": "code",
      "metadata": {
        "id": "Ze9IC0G2xr7r",
        "colab_type": "code",
        "colab": {
          "base_uri": "https://localhost:8080/",
          "height": 119
        },
        "outputId": "887a3fd7-eedb-45c1-c720-472487b4a851"
      },
      "source": [
        "df.columns"
      ],
      "execution_count": 6,
      "outputs": [
        {
          "output_type": "execute_result",
          "data": {
            "text/plain": [
              "Index(['tenure', 'age', 'address', 'income', 'ed', 'employ', 'equip',\n",
              "       'callcard', 'wireless', 'longmon', 'tollmon', 'equipmon', 'cardmon',\n",
              "       'wiremon', 'longten', 'tollten', 'cardten', 'voice', 'pager',\n",
              "       'internet', 'callwait', 'confer', 'ebill', 'loglong', 'logtoll',\n",
              "       'lninc', 'custcat', 'churn'],\n",
              "      dtype='object')"
            ]
          },
          "metadata": {
            "tags": []
          },
          "execution_count": 6
        }
      ]
    },
    {
      "cell_type": "code",
      "metadata": {
        "id": "bRWNWfzDxwno",
        "colab_type": "code",
        "colab": {
          "base_uri": "https://localhost:8080/",
          "height": 204
        },
        "outputId": "c9d5dd2a-0e6c-4b26-a805-c472abc1f9f4"
      },
      "source": [
        "churn_df = df.loc[:,['tenure', 'age', 'address', 'income', 'ed', 'employ', 'equip',   'callcard', 'wireless','churn']]\n",
        "churn_df.loc[:,'churn'] = df.loc[:,'churn'].astype('int')\n",
        "churn_df.head()"
      ],
      "execution_count": 11,
      "outputs": [
        {
          "output_type": "execute_result",
          "data": {
            "text/html": [
              "<div>\n",
              "<style scoped>\n",
              "    .dataframe tbody tr th:only-of-type {\n",
              "        vertical-align: middle;\n",
              "    }\n",
              "\n",
              "    .dataframe tbody tr th {\n",
              "        vertical-align: top;\n",
              "    }\n",
              "\n",
              "    .dataframe thead th {\n",
              "        text-align: right;\n",
              "    }\n",
              "</style>\n",
              "<table border=\"1\" class=\"dataframe\">\n",
              "  <thead>\n",
              "    <tr style=\"text-align: right;\">\n",
              "      <th></th>\n",
              "      <th>tenure</th>\n",
              "      <th>age</th>\n",
              "      <th>address</th>\n",
              "      <th>income</th>\n",
              "      <th>ed</th>\n",
              "      <th>employ</th>\n",
              "      <th>equip</th>\n",
              "      <th>callcard</th>\n",
              "      <th>wireless</th>\n",
              "      <th>churn</th>\n",
              "    </tr>\n",
              "  </thead>\n",
              "  <tbody>\n",
              "    <tr>\n",
              "      <th>0</th>\n",
              "      <td>11.0</td>\n",
              "      <td>33.0</td>\n",
              "      <td>7.0</td>\n",
              "      <td>136.0</td>\n",
              "      <td>5.0</td>\n",
              "      <td>5.0</td>\n",
              "      <td>0.0</td>\n",
              "      <td>1.0</td>\n",
              "      <td>1.0</td>\n",
              "      <td>1</td>\n",
              "    </tr>\n",
              "    <tr>\n",
              "      <th>1</th>\n",
              "      <td>33.0</td>\n",
              "      <td>33.0</td>\n",
              "      <td>12.0</td>\n",
              "      <td>33.0</td>\n",
              "      <td>2.0</td>\n",
              "      <td>0.0</td>\n",
              "      <td>0.0</td>\n",
              "      <td>0.0</td>\n",
              "      <td>0.0</td>\n",
              "      <td>1</td>\n",
              "    </tr>\n",
              "    <tr>\n",
              "      <th>2</th>\n",
              "      <td>23.0</td>\n",
              "      <td>30.0</td>\n",
              "      <td>9.0</td>\n",
              "      <td>30.0</td>\n",
              "      <td>1.0</td>\n",
              "      <td>2.0</td>\n",
              "      <td>0.0</td>\n",
              "      <td>0.0</td>\n",
              "      <td>0.0</td>\n",
              "      <td>0</td>\n",
              "    </tr>\n",
              "    <tr>\n",
              "      <th>3</th>\n",
              "      <td>38.0</td>\n",
              "      <td>35.0</td>\n",
              "      <td>5.0</td>\n",
              "      <td>76.0</td>\n",
              "      <td>2.0</td>\n",
              "      <td>10.0</td>\n",
              "      <td>1.0</td>\n",
              "      <td>1.0</td>\n",
              "      <td>1.0</td>\n",
              "      <td>0</td>\n",
              "    </tr>\n",
              "    <tr>\n",
              "      <th>4</th>\n",
              "      <td>7.0</td>\n",
              "      <td>35.0</td>\n",
              "      <td>14.0</td>\n",
              "      <td>80.0</td>\n",
              "      <td>2.0</td>\n",
              "      <td>15.0</td>\n",
              "      <td>0.0</td>\n",
              "      <td>1.0</td>\n",
              "      <td>0.0</td>\n",
              "      <td>0</td>\n",
              "    </tr>\n",
              "  </tbody>\n",
              "</table>\n",
              "</div>"
            ],
            "text/plain": [
              "   tenure   age  address  income   ed  employ  equip  callcard  wireless  churn\n",
              "0    11.0  33.0      7.0   136.0  5.0     5.0    0.0       1.0       1.0      1\n",
              "1    33.0  33.0     12.0    33.0  2.0     0.0    0.0       0.0       0.0      1\n",
              "2    23.0  30.0      9.0    30.0  1.0     2.0    0.0       0.0       0.0      0\n",
              "3    38.0  35.0      5.0    76.0  2.0    10.0    1.0       1.0       1.0      0\n",
              "4     7.0  35.0     14.0    80.0  2.0    15.0    0.0       1.0       0.0      0"
            ]
          },
          "metadata": {
            "tags": []
          },
          "execution_count": 11
        }
      ]
    },
    {
      "cell_type": "code",
      "metadata": {
        "id": "Daq3LIN7x6MK",
        "colab_type": "code",
        "colab": {
          "base_uri": "https://localhost:8080/",
          "height": 34
        },
        "outputId": "acc84881-6b20-4902-b6ff-e1a0943b6bde"
      },
      "source": [
        "churn_df.shape"
      ],
      "execution_count": 12,
      "outputs": [
        {
          "output_type": "execute_result",
          "data": {
            "text/plain": [
              "(200, 10)"
            ]
          },
          "metadata": {
            "tags": []
          },
          "execution_count": 12
        }
      ]
    },
    {
      "cell_type": "markdown",
      "metadata": {
        "id": "NJSO7_jIy8gL",
        "colab_type": "text"
      },
      "source": [
        "Lets define X, and y for our dataset:"
      ]
    },
    {
      "cell_type": "code",
      "metadata": {
        "id": "zh3LBWUxzB9_",
        "colab_type": "code",
        "colab": {
          "base_uri": "https://localhost:8080/",
          "height": 102
        },
        "outputId": "dbd21183-0f73-49eb-bd71-d4206000da00"
      },
      "source": [
        "X = np.asarray(churn_df[['tenure', 'age', 'address', 'income', 'ed', 'employ', 'equip']])\n",
        "X[0:5]"
      ],
      "execution_count": 13,
      "outputs": [
        {
          "output_type": "execute_result",
          "data": {
            "text/plain": [
              "array([[ 11.,  33.,   7., 136.,   5.,   5.,   0.],\n",
              "       [ 33.,  33.,  12.,  33.,   2.,   0.,   0.],\n",
              "       [ 23.,  30.,   9.,  30.,   1.,   2.,   0.],\n",
              "       [ 38.,  35.,   5.,  76.,   2.,  10.,   1.],\n",
              "       [  7.,  35.,  14.,  80.,   2.,  15.,   0.]])"
            ]
          },
          "metadata": {
            "tags": []
          },
          "execution_count": 13
        }
      ]
    },
    {
      "cell_type": "code",
      "metadata": {
        "id": "6aPATGRTzCX3",
        "colab_type": "code",
        "colab": {
          "base_uri": "https://localhost:8080/",
          "height": 34
        },
        "outputId": "95fe39ce-af86-4b81-c43a-d7aee98408fc"
      },
      "source": [
        "y = np.asarray(churn_df['churn'])\n",
        "y [0:5]"
      ],
      "execution_count": 14,
      "outputs": [
        {
          "output_type": "execute_result",
          "data": {
            "text/plain": [
              "array([1, 1, 0, 0, 0])"
            ]
          },
          "metadata": {
            "tags": []
          },
          "execution_count": 14
        }
      ]
    },
    {
      "cell_type": "markdown",
      "metadata": {
        "id": "AuiQuoeUzFYK",
        "colab_type": "text"
      },
      "source": [
        "Also, we normalize the dataset:"
      ]
    },
    {
      "cell_type": "code",
      "metadata": {
        "id": "_Gt4L4IrzI2v",
        "colab_type": "code",
        "colab": {
          "base_uri": "https://localhost:8080/",
          "height": 187
        },
        "outputId": "cff18917-a8a7-4b6a-b2c6-b4fb536c49c6"
      },
      "source": [
        "from sklearn import preprocessing\n",
        "X = preprocessing.StandardScaler().fit(X).transform(X)\n",
        "X[0:5]"
      ],
      "execution_count": 26,
      "outputs": [
        {
          "output_type": "execute_result",
          "data": {
            "text/plain": [
              "array([[-1.13518441, -0.62595491, -0.4588971 ,  0.4751423 ,  1.6961288 ,\n",
              "        -0.58477841, -0.85972695],\n",
              "       [-0.11604313, -0.62595491,  0.03454064, -0.32886061, -0.6433592 ,\n",
              "        -1.14437497, -0.85972695],\n",
              "       [-0.57928917, -0.85594447, -0.261522  , -0.35227817, -1.42318853,\n",
              "        -0.92053635, -0.85972695],\n",
              "       [ 0.11557989, -0.47262854, -0.65627219,  0.00679109, -0.6433592 ,\n",
              "        -0.02518185,  1.16316   ],\n",
              "       [-1.32048283, -0.47262854,  0.23191574,  0.03801451, -0.6433592 ,\n",
              "         0.53441472, -0.85972695]])"
            ]
          },
          "metadata": {
            "tags": []
          },
          "execution_count": 26
        }
      ]
    },
    {
      "cell_type": "markdown",
      "metadata": {
        "id": "PfjXiu2ezkyr",
        "colab_type": "text"
      },
      "source": [
        "## Train/Test dataset\n",
        "\n",
        "Okay, we split our dataset into train and test set:"
      ]
    },
    {
      "cell_type": "code",
      "metadata": {
        "id": "HX4XvmO80Hz5",
        "colab_type": "code",
        "colab": {
          "base_uri": "https://localhost:8080/",
          "height": 51
        },
        "outputId": "8583dc13-727f-432c-f6fe-27a62f76f06e"
      },
      "source": [
        "from sklearn.model_selection import train_test_split\n",
        "X_train, X_test, y_train, y_test = train_test_split( X, y, test_size=0.3, random_state=5)\n",
        "print ('Train set:', X_train.shape,  y_train.shape)\n",
        "print ('Test set:', X_test.shape,  y_test.shape)"
      ],
      "execution_count": 27,
      "outputs": [
        {
          "output_type": "stream",
          "text": [
            "Train set: (140, 7) (140,)\n",
            "Test set: (60, 7) (60,)\n"
          ],
          "name": "stdout"
        }
      ]
    },
    {
      "cell_type": "markdown",
      "metadata": {
        "id": "UM7BZyH-0MBc",
        "colab_type": "text"
      },
      "source": [
        "Lets build our model using __LogisticRegression__ from Scikit-learn package. This function implements logistic regression and can use different numerical optimizers to find parameters, including ‘newton-cg’, ‘lbfgs’, ‘liblinear’, ‘sag’, ‘saga’ solvers. You can find extensive information about the pros and cons of these optimizers if you search it in internet.\n",
        "\n",
        "The version of Logistic Regression in Scikit-learn, support regularization. Regularization is a technique used to solve the overfitting problem in machine learning models.\n",
        "__C__ parameter indicates __inverse of regularization strength__ which must be a positive float. Smaller values specify stronger regularization. \n",
        "Now lets fit our model with train set:"
      ]
    },
    {
      "cell_type": "code",
      "metadata": {
        "id": "C3mD4qGw0ojb",
        "colab_type": "code",
        "colab": {
          "base_uri": "https://localhost:8080/",
          "height": 102
        },
        "outputId": "f1f5d6d1-0729-4095-f4bf-c2e8c9cc4ce1"
      },
      "source": [
        "from sklearn.linear_model import LogisticRegression\n",
        "from sklearn.metrics import confusion_matrix\n",
        "LR = LogisticRegression(C=0.01, solver='liblinear').fit(X_train,y_train)\n",
        "LR"
      ],
      "execution_count": 28,
      "outputs": [
        {
          "output_type": "execute_result",
          "data": {
            "text/plain": [
              "LogisticRegression(C=0.01, class_weight=None, dual=False, fit_intercept=True,\n",
              "                   intercept_scaling=1, l1_ratio=None, max_iter=100,\n",
              "                   multi_class='warn', n_jobs=None, penalty='l2',\n",
              "                   random_state=None, solver='liblinear', tol=0.0001, verbose=0,\n",
              "                   warm_start=False)"
            ]
          },
          "metadata": {
            "tags": []
          },
          "execution_count": 28
        }
      ]
    },
    {
      "cell_type": "code",
      "metadata": {
        "id": "-JGca5Eq0pgJ",
        "colab_type": "code",
        "colab": {
          "base_uri": "https://localhost:8080/",
          "height": 68
        },
        "outputId": "f0d51a9f-ccbf-4add-9988-19ca7469cc5c"
      },
      "source": [
        "# Now we can predict using our test set:\n",
        "\n",
        "y_test_ = LR.predict(X_test)\n",
        "y_test_"
      ],
      "execution_count": 30,
      "outputs": [
        {
          "output_type": "execute_result",
          "data": {
            "text/plain": [
              "array([0, 1, 1, 1, 0, 1, 1, 0, 1, 0, 0, 0, 1, 1, 1, 1, 0, 0, 1, 1, 0, 0,\n",
              "       1, 0, 0, 1, 1, 1, 0, 1, 1, 1, 0, 0, 0, 0, 0, 0, 0, 1, 1, 0, 0, 0,\n",
              "       0, 0, 0, 0, 1, 0, 1, 1, 0, 1, 1, 0, 1, 0, 0, 1])"
            ]
          },
          "metadata": {
            "tags": []
          },
          "execution_count": 30
        }
      ]
    },
    {
      "cell_type": "markdown",
      "metadata": {
        "id": "fvb_gOJS0116",
        "colab_type": "text"
      },
      "source": [
        "__predict_proba__  returns estimates for all classes, ordered by the label of classes. So, the first column is the probability of class 1, P(Y=1|X), and second column is probability of class 0, P(Y=0|X):"
      ]
    },
    {
      "cell_type": "code",
      "metadata": {
        "id": "zZRqlnXn08Hq",
        "colab_type": "code",
        "colab": {
          "base_uri": "https://localhost:8080/",
          "height": 1037
        },
        "outputId": "648b4ebc-c59a-4a0b-c874-79ab94ca2b52"
      },
      "source": [
        "y_test_prob = LR.predict_proba(X_test)\n",
        "y_test_prob"
      ],
      "execution_count": 32,
      "outputs": [
        {
          "output_type": "execute_result",
          "data": {
            "text/plain": [
              "array([[0.6277665 , 0.3722335 ],\n",
              "       [0.39223387, 0.60776613],\n",
              "       [0.40886794, 0.59113206],\n",
              "       [0.4560836 , 0.5439164 ],\n",
              "       [0.75891704, 0.24108296],\n",
              "       [0.48867661, 0.51132339],\n",
              "       [0.44059299, 0.55940701],\n",
              "       [0.52113539, 0.47886461],\n",
              "       [0.47774754, 0.52225246],\n",
              "       [0.50769464, 0.49230536],\n",
              "       [0.57079056, 0.42920944],\n",
              "       [0.51476436, 0.48523564],\n",
              "       [0.49687474, 0.50312526],\n",
              "       [0.42470696, 0.57529304],\n",
              "       [0.45385023, 0.54614977],\n",
              "       [0.44959788, 0.55040212],\n",
              "       [0.51538684, 0.48461316],\n",
              "       [0.52306503, 0.47693497],\n",
              "       [0.41608837, 0.58391163],\n",
              "       [0.47837749, 0.52162251],\n",
              "       [0.57007137, 0.42992863],\n",
              "       [0.65798657, 0.34201343],\n",
              "       [0.38052803, 0.61947197],\n",
              "       [0.55639712, 0.44360288],\n",
              "       [0.61779689, 0.38220311],\n",
              "       [0.4540393 , 0.5459607 ],\n",
              "       [0.45774543, 0.54225457],\n",
              "       [0.48571915, 0.51428085],\n",
              "       [0.50734943, 0.49265057],\n",
              "       [0.4963596 , 0.5036404 ],\n",
              "       [0.43928287, 0.56071713],\n",
              "       [0.48538636, 0.51461364],\n",
              "       [0.62632607, 0.37367393],\n",
              "       [0.67729141, 0.32270859],\n",
              "       [0.70418928, 0.29581072],\n",
              "       [0.5503671 , 0.4496329 ],\n",
              "       [0.7032966 , 0.2967034 ],\n",
              "       [0.68323226, 0.31676774],\n",
              "       [0.62087998, 0.37912002],\n",
              "       [0.44455442, 0.55544558],\n",
              "       [0.47135371, 0.52864629],\n",
              "       [0.68918083, 0.31081917],\n",
              "       [0.66066749, 0.33933251],\n",
              "       [0.70846015, 0.29153985],\n",
              "       [0.53166682, 0.46833318],\n",
              "       [0.54578985, 0.45421015],\n",
              "       [0.5724994 , 0.4275006 ],\n",
              "       [0.75796822, 0.24203178],\n",
              "       [0.48122875, 0.51877125],\n",
              "       [0.63190905, 0.36809095],\n",
              "       [0.4201557 , 0.5798443 ],\n",
              "       [0.4725179 , 0.5274821 ],\n",
              "       [0.55259753, 0.44740247],\n",
              "       [0.46807693, 0.53192307],\n",
              "       [0.38868837, 0.61131163],\n",
              "       [0.59238834, 0.40761166],\n",
              "       [0.44830982, 0.55169018],\n",
              "       [0.51483679, 0.48516321],\n",
              "       [0.57320421, 0.42679579],\n",
              "       [0.4342577 , 0.5657423 ]])"
            ]
          },
          "metadata": {
            "tags": []
          },
          "execution_count": 32
        }
      ]
    },
    {
      "cell_type": "markdown",
      "metadata": {
        "id": "wQKboM9a1DEd",
        "colab_type": "text"
      },
      "source": [
        "## Evaluation\n",
        "\n",
        "### jaccard index\n",
        "Lets try jaccard index for accuracy evaluation. we can define jaccard as the size of the intersection divided by the size of the union of two label sets. If the entire set of predicted labels for a sample strictly match with the true set of labels, then the subset accuracy is 1.0; otherwise it is 0.0."
      ]
    },
    {
      "cell_type": "code",
      "metadata": {
        "id": "Xj-5QxvK1Wnr",
        "colab_type": "code",
        "colab": {
          "base_uri": "https://localhost:8080/",
          "height": 34
        },
        "outputId": "cb74f195-c0d2-4173-a538-9c918c692abd"
      },
      "source": [
        "from sklearn.metrics import jaccard_score\n",
        "jaccard_score(y_test, y_test_)"
      ],
      "execution_count": 34,
      "outputs": [
        {
          "output_type": "execute_result",
          "data": {
            "text/plain": [
              "0.5483870967741935"
            ]
          },
          "metadata": {
            "tags": []
          },
          "execution_count": 34
        }
      ]
    },
    {
      "cell_type": "markdown",
      "metadata": {
        "id": "ymM1ZIDB1ZVu",
        "colab_type": "text"
      },
      "source": [
        "### confusion matrix\n",
        "Another way of looking at accuracy of classifier is to look at __confusion matrix__."
      ]
    },
    {
      "cell_type": "code",
      "metadata": {
        "id": "W3X5DEMs1mg8",
        "colab_type": "code",
        "colab": {}
      },
      "source": [
        "from sklearn.metrics import classification_report, confusion_matrix\n",
        "import itertools\n",
        "def plot_confusion_matrix(cm, classes,\n",
        "                          normalize=False,\n",
        "                          title='Confusion matrix',\n",
        "                          cmap=plt.cm.Blues):\n",
        "    \"\"\"\n",
        "    This function prints and plots the confusion matrix.\n",
        "    Normalization can be applied by setting `normalize=True`.\n",
        "    \"\"\"\n",
        "    if normalize:\n",
        "        cm = cm.astype('float') / cm.sum(axis=1)[:, np.newaxis]\n",
        "        print(\"Normalized confusion matrix\")\n",
        "    else:\n",
        "        print('Confusion matrix, without normalization')\n",
        "\n",
        "    print(cm)\n",
        "\n",
        "    plt.imshow(cm, interpolation='nearest', cmap=cmap)\n",
        "    plt.title(title)\n",
        "    plt.colorbar()\n",
        "    tick_marks = np.arange(len(classes))\n",
        "    plt.xticks(tick_marks, classes, rotation=45)\n",
        "    plt.yticks(tick_marks, classes)\n",
        "\n",
        "    fmt = '.2f' if normalize else 'd'\n",
        "    thresh = cm.max() / 2.\n",
        "    for i, j in itertools.product(range(cm.shape[0]), range(cm.shape[1])):\n",
        "        plt.text(j, i, format(cm[i, j], fmt),\n",
        "                 horizontalalignment=\"center\",\n",
        "                 color=\"white\" if cm[i, j] > thresh else \"black\")\n",
        "\n",
        "    plt.tight_layout()\n",
        "    plt.ylabel('True label')\n",
        "    plt.xlabel('Predicted label')\n"
      ],
      "execution_count": 0,
      "outputs": []
    },
    {
      "cell_type": "code",
      "metadata": {
        "id": "xmb-L6cB1ntw",
        "colab_type": "code",
        "colab": {
          "base_uri": "https://localhost:8080/",
          "height": 362
        },
        "outputId": "9fd84d8f-028b-482a-d515-e597a341a883"
      },
      "source": [
        "# Compute confusion matrix\n",
        "cnf_matrix = confusion_matrix(y_test, y_test_, labels=[1,0])\n",
        "np.set_printoptions(precision=2)\n",
        "\n",
        "\n",
        "# Plot non-normalized confusion matrix\n",
        "plt.figure()\n",
        "plot_confusion_matrix(cnf_matrix, classes=['churn=1','churn=0'],normalize= False,  title='Confusion matrix')"
      ],
      "execution_count": 39,
      "outputs": [
        {
          "output_type": "stream",
          "text": [
            "Confusion matrix, without normalization\n",
            "[[17  3]\n",
            " [11 29]]\n"
          ],
          "name": "stdout"
        },
        {
          "output_type": "display_data",
          "data": {
            "image/png": "[encoded data removed]",
            "text/plain": [
              "<Figure size 432x288 with 2 Axes>"
            ]
          },
          "metadata": {
            "tags": []
          }
        }
      ]
    },
    {
      "cell_type": "markdown",
      "metadata": {
        "id": "TAYVfVrl16bX",
        "colab_type": "text"
      },
      "source": [
        "Look at first row. The firsr row is for customers whose actual churn value in test set is 1.\n",
        "As you can calculate, out of 40 customers, the churn value of 15 of them is 1. \n",
        "And out of these 15, the classifier correctly predicted 6 of them as 1, and 9 of them as 0. \n",
        "\n",
        "It means, for 6 customers, the actual churn value were 1 in test set, and classifier also correctly predicted those as 1. However, while the actual label of 9 customers were 1, the classifier predicted those as 0, which is not very good. We can consider it as error of the model for first row.\n",
        "\n",
        "What about the customers with churn value 0? Lets look at the second row.\n",
        "It looks like  there were 25 customers whom their churn value were 0. \n",
        "\n",
        "\n",
        "The classifier correctly predicted 24 of them as 0, and one of them wrongly as 1. So, it has done a good job in predicting the customers with churn value 0. A good thing about confusion matrix is that shows the model’s ability to correctly predict or separate the classes.  In specific case of binary classifier, such as this example,  we can interpret these numbers as the count of true positives, false positives, true negatives, and false negatives. "
      ]
    },
    {
      "cell_type": "code",
      "metadata": {
        "id": "Vn_Ni2aX2c07",
        "colab_type": "code",
        "colab": {
          "base_uri": "https://localhost:8080/",
          "height": 170
        },
        "outputId": "0856b4fc-edc3-437c-c84d-e699fc957e01"
      },
      "source": [
        "print (classification_report(y_test, y_test_))"
      ],
      "execution_count": 40,
      "outputs": [
        {
          "output_type": "stream",
          "text": [
            "              precision    recall  f1-score   support\n",
            "\n",
            "           0       0.91      0.72      0.81        40\n",
            "           1       0.61      0.85      0.71        20\n",
            "\n",
            "    accuracy                           0.77        60\n",
            "   macro avg       0.76      0.79      0.76        60\n",
            "weighted avg       0.81      0.77      0.77        60\n",
            "\n"
          ],
          "name": "stdout"
        }
      ]
    },
    {
      "cell_type": "markdown",
      "metadata": {
        "id": "Qq6TC5_c2e33",
        "colab_type": "text"
      },
      "source": [
        "Based on the count of each section, we can calculate precision and recall of each label:\n",
        "\n",
        "\n",
        "- __Precision__ is a measure of the accuracy provided that a class label has been predicted. It is defined by: precision = TP / (TP + FP)\n",
        "\n",
        "- __Recall__ is true positive rate. It is defined as: Recall =  TP / (TP + FN)\n",
        "\n",
        "    \n",
        "So, we can calculate precision and recall of each class.\n",
        "\n",
        "__F1 score:__\n",
        "Now we are in the position to calculate the F1 scores for each label based on the precision and recall of that label. \n",
        "\n",
        "The F1score is the harmonic average of the precision and recall, where an F1 score reaches its best value at 1 (perfect precision and recall) and worst at 0. It is a good way to show that a classifer has a good value for both recall and precision.\n",
        "\n",
        "\n",
        "And finally, we can tell the average accuracy for this classifier is the average of the f1-score for both labels, which is 0.72 in our case."
      ]
    },
    {
      "cell_type": "markdown",
      "metadata": {
        "id": "jmKkAbtZ3zBh",
        "colab_type": "text"
      },
      "source": [
        "### log loss\n",
        "Now, lets try __log loss__ for evaluation. In logistic regression, the output can be the probability of customer churn is yes (or equals to 1). This probability is a value between 0 and 1.\n",
        "Log loss( Logarithmic loss) measures the performance of a classifier where the predicted output is a probability value between 0 and 1. "
      ]
    },
    {
      "cell_type": "code",
      "metadata": {
        "id": "YuQ86zVW3zgP",
        "colab_type": "code",
        "colab": {
          "base_uri": "https://localhost:8080/",
          "height": 34
        },
        "outputId": "904e2479-b9bd-4d56-b8ec-12f122f5e89a"
      },
      "source": [
        "from sklearn.metrics import log_loss\n",
        "log_loss(y_test, y_test_)"
      ],
      "execution_count": 41,
      "outputs": [
        {
          "output_type": "execute_result",
          "data": {
            "text/plain": [
              "8.059194418341361"
            ]
          },
          "metadata": {
            "tags": []
          },
          "execution_count": 41
        }
      ]
    },
    {
      "cell_type": "code",
      "metadata": {
        "id": "Pt8UGtlv4PMF",
        "colab_type": "code",
        "colab": {}
      },
      "source": [
        ""
      ],
      "execution_count": 0,
      "outputs": []
    }
  ]
}